{
 "cells": [
  {
   "cell_type": "markdown",
   "metadata": {},
   "source": [
    "# Deep Neural Network with Bells & Whistles\n",
    "\n",
    "This is a complete example of building a deep neural network with implementations of forward and backward propgation.\n",
    "The implementation does not use any frameworks like TensorFlow.\n",
    "It is just plain Python implementations of all the components of a DNN\n",
    "Other elements such as regularization, initialization, normalization, and using momentum etc. have all been incorporated as well. "
   ]
  },
  {
   "cell_type": "code",
   "execution_count": 2,
   "metadata": {
    "collapsed": false,
    "jupyter": {
     "outputs_hidden": false
    },
    "tags": []
   },
   "outputs": [
    {
     "name": "stdout",
     "output_type": "stream",
     "text": [
      "Requirement already satisfied: matplotlib in /opt/conda/lib/python3.7/site-packages (3.5.3)\n",
      "Requirement already satisfied: numpy>=1.17 in /opt/conda/lib/python3.7/site-packages (from matplotlib) (1.21.6)\n",
      "Requirement already satisfied: packaging>=20.0 in /opt/conda/lib/python3.7/site-packages (from matplotlib) (20.1)\n",
      "Requirement already satisfied: python-dateutil>=2.7 in /opt/conda/lib/python3.7/site-packages (from matplotlib) (2.8.2)\n",
      "Requirement already satisfied: pyparsing>=2.2.1 in /opt/conda/lib/python3.7/site-packages (from matplotlib) (2.4.6)\n",
      "Requirement already satisfied: kiwisolver>=1.0.1 in /opt/conda/lib/python3.7/site-packages (from matplotlib) (1.1.0)\n",
      "Requirement already satisfied: pillow>=6.2.0 in /opt/conda/lib/python3.7/site-packages (from matplotlib) (9.4.0)\n",
      "Requirement already satisfied: cycler>=0.10 in /opt/conda/lib/python3.7/site-packages (from matplotlib) (0.10.0)\n",
      "Requirement already satisfied: fonttools>=4.22.0 in /opt/conda/lib/python3.7/site-packages (from matplotlib) (4.38.0)\n",
      "Requirement already satisfied: six in /opt/conda/lib/python3.7/site-packages (from cycler>=0.10->matplotlib) (1.14.0)\n",
      "Requirement already satisfied: setuptools in /opt/conda/lib/python3.7/site-packages (from kiwisolver>=1.0.1->matplotlib) (59.3.0)\n",
      "\u001b[33mWARNING: Running pip as the 'root' user can result in broken permissions and conflicting behaviour with the system package manager. It is recommended to use a virtual environment instead: https://pip.pypa.io/warnings/venv\u001b[0m\u001b[33m\n",
      "\u001b[0m\n",
      "\u001b[1m[\u001b[0m\u001b[34;49mnotice\u001b[0m\u001b[1;39;49m]\u001b[0m\u001b[39;49m A new release of pip is available: \u001b[0m\u001b[31;49m23.0.1\u001b[0m\u001b[39;49m -> \u001b[0m\u001b[32;49m23.1.2\u001b[0m\n",
      "\u001b[1m[\u001b[0m\u001b[34;49mnotice\u001b[0m\u001b[1;39;49m]\u001b[0m\u001b[39;49m To update, run: \u001b[0m\u001b[32;49mpip install --upgrade pip\u001b[0m\n",
      "Note: you may need to restart the kernel to use updated packages.\n",
      "Requirement already satisfied: ipympl in /opt/conda/lib/python3.7/site-packages (0.9.3)\n",
      "Requirement already satisfied: pillow in /opt/conda/lib/python3.7/site-packages (from ipympl) (9.4.0)\n",
      "Requirement already satisfied: matplotlib<4,>=3.4.0 in /opt/conda/lib/python3.7/site-packages (from ipympl) (3.5.3)\n",
      "Requirement already satisfied: numpy in /opt/conda/lib/python3.7/site-packages (from ipympl) (1.21.6)\n",
      "Requirement already satisfied: ipython<9 in /opt/conda/lib/python3.7/site-packages (from ipympl) (7.34.0)\n",
      "Requirement already satisfied: ipywidgets<9,>=7.6.0 in /opt/conda/lib/python3.7/site-packages (from ipympl) (8.0.6)\n",
      "Requirement already satisfied: traitlets<6 in /opt/conda/lib/python3.7/site-packages (from ipympl) (5.9.0)\n",
      "Requirement already satisfied: ipython-genutils in /opt/conda/lib/python3.7/site-packages (from ipympl) (0.2.0)\n",
      "Requirement already satisfied: setuptools>=18.5 in /opt/conda/lib/python3.7/site-packages (from ipython<9->ipympl) (59.3.0)\n",
      "Requirement already satisfied: prompt-toolkit!=3.0.0,!=3.0.1,<3.1.0,>=2.0.0 in /opt/conda/lib/python3.7/site-packages (from ipython<9->ipympl) (3.0.3)\n",
      "Requirement already satisfied: matplotlib-inline in /opt/conda/lib/python3.7/site-packages (from ipython<9->ipympl) (0.1.6)\n",
      "Requirement already satisfied: pexpect>4.3 in /opt/conda/lib/python3.7/site-packages (from ipython<9->ipympl) (4.8.0)\n",
      "Requirement already satisfied: backcall in /opt/conda/lib/python3.7/site-packages (from ipython<9->ipympl) (0.1.0)\n",
      "Requirement already satisfied: pickleshare in /opt/conda/lib/python3.7/site-packages (from ipython<9->ipympl) (0.7.5)\n",
      "Requirement already satisfied: decorator in /opt/conda/lib/python3.7/site-packages (from ipython<9->ipympl) (4.4.1)\n",
      "Requirement already satisfied: jedi>=0.16 in /opt/conda/lib/python3.7/site-packages (from ipython<9->ipympl) (0.18.2)\n",
      "Requirement already satisfied: pygments in /opt/conda/lib/python3.7/site-packages (from ipython<9->ipympl) (2.14.0)\n",
      "Requirement already satisfied: jupyterlab-widgets~=3.0.7 in /opt/conda/lib/python3.7/site-packages (from ipywidgets<9,>=7.6.0->ipympl) (3.0.7)\n",
      "Requirement already satisfied: ipykernel>=4.5.1 in /opt/conda/lib/python3.7/site-packages (from ipywidgets<9,>=7.6.0->ipympl) (5.1.4)\n",
      "Requirement already satisfied: widgetsnbextension~=4.0.7 in /opt/conda/lib/python3.7/site-packages (from ipywidgets<9,>=7.6.0->ipympl) (4.0.7)\n",
      "Requirement already satisfied: pyparsing>=2.2.1 in /opt/conda/lib/python3.7/site-packages (from matplotlib<4,>=3.4.0->ipympl) (2.4.6)\n",
      "Requirement already satisfied: python-dateutil>=2.7 in /opt/conda/lib/python3.7/site-packages (from matplotlib<4,>=3.4.0->ipympl) (2.8.2)\n",
      "Requirement already satisfied: fonttools>=4.22.0 in /opt/conda/lib/python3.7/site-packages (from matplotlib<4,>=3.4.0->ipympl) (4.38.0)\n",
      "Requirement already satisfied: cycler>=0.10 in /opt/conda/lib/python3.7/site-packages (from matplotlib<4,>=3.4.0->ipympl) (0.10.0)\n",
      "Requirement already satisfied: kiwisolver>=1.0.1 in /opt/conda/lib/python3.7/site-packages (from matplotlib<4,>=3.4.0->ipympl) (1.1.0)\n",
      "Requirement already satisfied: packaging>=20.0 in /opt/conda/lib/python3.7/site-packages (from matplotlib<4,>=3.4.0->ipympl) (20.1)\n",
      "Requirement already satisfied: six in /opt/conda/lib/python3.7/site-packages (from cycler>=0.10->matplotlib<4,>=3.4.0->ipympl) (1.14.0)\n",
      "Requirement already satisfied: jupyter-client in /opt/conda/lib/python3.7/site-packages (from ipykernel>=4.5.1->ipywidgets<9,>=7.6.0->ipympl) (7.4.9)\n",
      "Requirement already satisfied: tornado>=4.2 in /opt/conda/lib/python3.7/site-packages (from ipykernel>=4.5.1->ipywidgets<9,>=7.6.0->ipympl) (6.2)\n",
      "Requirement already satisfied: parso<0.9.0,>=0.8.0 in /opt/conda/lib/python3.7/site-packages (from jedi>=0.16->ipython<9->ipympl) (0.8.3)\n",
      "Requirement already satisfied: ptyprocess>=0.5 in /opt/conda/lib/python3.7/site-packages (from pexpect>4.3->ipython<9->ipympl) (0.6.0)\n",
      "Requirement already satisfied: wcwidth in /opt/conda/lib/python3.7/site-packages (from prompt-toolkit!=3.0.0,!=3.0.1,<3.1.0,>=2.0.0->ipython<9->ipympl) (0.1.8)\n",
      "Requirement already satisfied: entrypoints in /opt/conda/lib/python3.7/site-packages (from jupyter-client->ipykernel>=4.5.1->ipywidgets<9,>=7.6.0->ipympl) (0.3)\n",
      "Requirement already satisfied: nest-asyncio>=1.5.4 in /opt/conda/lib/python3.7/site-packages (from jupyter-client->ipykernel>=4.5.1->ipywidgets<9,>=7.6.0->ipympl) (1.5.6)\n",
      "Requirement already satisfied: pyzmq>=23.0 in /opt/conda/lib/python3.7/site-packages (from jupyter-client->ipykernel>=4.5.1->ipywidgets<9,>=7.6.0->ipympl) (25.0.2)\n",
      "Requirement already satisfied: jupyter-core>=4.9.2 in /opt/conda/lib/python3.7/site-packages (from jupyter-client->ipykernel>=4.5.1->ipywidgets<9,>=7.6.0->ipympl) (4.12.0)\n",
      "\u001b[33mWARNING: Running pip as the 'root' user can result in broken permissions and conflicting behaviour with the system package manager. It is recommended to use a virtual environment instead: https://pip.pypa.io/warnings/venv\u001b[0m\u001b[33m\n",
      "\u001b[0m\n",
      "\u001b[1m[\u001b[0m\u001b[34;49mnotice\u001b[0m\u001b[1;39;49m]\u001b[0m\u001b[39;49m A new release of pip is available: \u001b[0m\u001b[31;49m23.0.1\u001b[0m\u001b[39;49m -> \u001b[0m\u001b[32;49m23.1.2\u001b[0m\n",
      "\u001b[1m[\u001b[0m\u001b[34;49mnotice\u001b[0m\u001b[1;39;49m]\u001b[0m\u001b[39;49m To update, run: \u001b[0m\u001b[32;49mpip install --upgrade pip\u001b[0m\n",
      "Note: you may need to restart the kernel to use updated packages.\n"
     ]
    }
   ],
   "source": [
    "import numpy as np\n",
    "import h5py\n",
    "import matplotlib.pyplot as plt\n",
    "from dnn_utils_v2 import sigmoid, sigmoid_backward, relu, relu_backward\n",
    "\n",
    "%pip install matplotlib\n",
    "%pip install ipympl\n",
    "%matplotlib inline\n",
    "\n",
    "%load_ext autoreload\n",
    "%autoreload 2\n",
    "\n",
    "plt.rcParams['figure.figsize'] = (5.0, 4.0) # set default size of plots\n",
    "plt.rcParams['image.interpolation'] = 'nearest'\n",
    "plt.rcParams['image.cmap'] = 'gray'\n",
    "\n",
    "np.random.seed(1)"
   ]
  },
  {
   "cell_type": "code",
   "execution_count": 3,
   "metadata": {
    "collapsed": true,
    "jupyter": {
     "outputs_hidden": true
    },
    "tags": []
   },
   "outputs": [],
   "source": [
    "#\n",
    "# Perform randomized initialization of weights & bias parameters\n",
    "# The choice of initialization method could be \"He\", \"Xavier\" or none\n",
    "#\n",
    "def initialize_parameters_momentum_rmsprop(layer_dims, method=\"he\"):\n",
    "    \"\"\"\n",
    "    Arguments:\n",
    "    layer_dims -- python array (list) containing the dimensions of each layer in our network\n",
    "    \n",
    "    Returns:\n",
    "    parameters -- python dictionary containing your parameters \"W1\", \"b1\", ..., \"WL\", \"bL\":\n",
    "                    Wl -- weight matrix of shape (layer_dims[l], layer_dims[l-1])\n",
    "                    bl -- bias vector of shape (layer_dims[l], 1)\n",
    "    \"\"\"\n",
    "    \n",
    "    np.random.seed(1)\n",
    "    parameters = {}\n",
    "    momentum = {}\n",
    "    rmsprop = {}\n",
    "    \n",
    "    # total number of layers in the network, including the input layer\n",
    "    L = len(layer_dims)            \n",
    "\n",
    "    #\n",
    "    # Initialize the matrix comprising weights (W) and bias values (b) for each layer.\n",
    "    # Note that the input layer does not count as a hidden layer\n",
    "    # Employ a specified initialization which uses a scaling factor based on the number of units in the previous layer\n",
    "    # n_h(i) represents the number of units in hidden layer i\n",
    "    # Dimension of W matrix for layer i = n_h(i) x n_h(i-1), where n_h(i) represents the number of units in hidden layer i\n",
    "    # Dimension of b vector for layer i = n_h(i);\n",
    "    #\n",
    "    print (\"Initializing parameters with '{}' method\".format(method))\n",
    "    for l in range(1, L):\n",
    "        layer_dims_current = layer_dims[l] \n",
    "        layer_dims_previous = layer_dims[l-1]\n",
    "        \n",
    "        scaling_factor = 0.01\n",
    "        if method == \"he\":\n",
    "            scaling_factor = np.sqrt(2.0/layer_dims_previous)\n",
    "        elif method == \"xavier\":\n",
    "            scaling_factor = np.sqrt(1.0/layer_dims_previous)\n",
    "        \n",
    "        parameters[\"W\" + str(l)] = np.random.randn (layer_dims_current, layer_dims_previous) * scaling_factor;\n",
    "        parameters[\"b\" + str(l)] = np.zeros ((layer_dims_current, 1));\n",
    "        \n",
    "        momentum[\"vdW\" + str(l)] = np.zeros ((layer_dims_current, layer_dims_previous));\n",
    "        momentum[\"vdb\" + str(l)] = np.zeros ((layer_dims_current, 1));\n",
    "        \n",
    "        rmsprop[\"sdW\" + str(l)] = np.zeros ((layer_dims_current, layer_dims_previous));\n",
    "        rmsprop[\"sdb\" + str(l)] = np.zeros ((layer_dims_current, 1));        \n",
    "        \n",
    "        assert(parameters[\"W\" + str(l)].shape == (layer_dims[l], layer_dims[l-1]))\n",
    "        assert(parameters[\"b\" + str(l)].shape == (layer_dims[l], 1))\n",
    "        \n",
    "    return parameters, momentum, rmsprop"
   ]
  },
  {
   "cell_type": "code",
   "execution_count": 4,
   "metadata": {
    "collapsed": true,
    "jupyter": {
     "outputs_hidden": true
    },
    "tags": []
   },
   "outputs": [],
   "source": [
    "def linear_forward(A, W, b):\n",
    "    \"\"\"\n",
    "    Implement the linear part of a layer's forward propagation.\n",
    "\n",
    "    Arguments:\n",
    "    A -- activations from previous layer (or input data): (size of previous layer, number of examples)\n",
    "    W -- weights matrix: numpy array of shape (size of current layer, size of previous layer)\n",
    "    b -- bias vector, numpy array of shape (size of the current layer, 1)\n",
    "\n",
    "    Returns:\n",
    "    Z -- the input of the activation function, also called pre-activation parameter \n",
    "    parameter_cache -- a python dictionary containing \"A\", \"W\" and \"b\" ; stored for computing the backward pass \n",
    "    \"\"\"\n",
    "    #\n",
    "    # The output for a given layer are computed using the weights/bias parameters for that layer \n",
    "    # and the activation of the previous layer\n",
    "    #\n",
    "    Z = np.matmul (W, A) + b;\n",
    "    assert(Z.shape == (W.shape[0], A.shape[1]))\n",
    "    parameter_cache = (A, W, b)\n",
    "    return Z, parameter_cache;"
   ]
  },
  {
   "cell_type": "code",
   "execution_count": 5,
   "metadata": {
    "collapsed": true,
    "jupyter": {
     "outputs_hidden": true
    },
    "tags": []
   },
   "outputs": [],
   "source": [
    "def linear_activation_forward(A_prev, W, b, activation):\n",
    "    \"\"\"\n",
    "    Implement the forward propagation for the LINEAR->ACTIVATION layer\n",
    "\n",
    "    Arguments:\n",
    "    A_prev -- activations from previous layer (or input data): (size of previous layer, number of examples)\n",
    "    W -- weights matrix: numpy array of shape (size of current layer, size of previous layer)\n",
    "    b -- bias vector, numpy array of shape (size of the current layer, 1)\n",
    "    activation -- the activation to be used in this layer, stored as a text string: \"sigmoid\" or \"relu\"\n",
    "\n",
    "    Returns:\n",
    "    A -- the output of the activation function, also called the post-activation value \n",
    "    all_cache -- a python dictionary containing \"parameter_cache\" and \"output_cache\";\n",
    "             stored for computing the backward pass efficiently\n",
    "    \"\"\"\n",
    "    \n",
    "    #\n",
    "    # First, compute the output for a given layer using forward propagation step.\n",
    "    # Then, compute the activation for that layer using either sigmoid or RelU function\n",
    "    # Store the weights W & B, activation and the output for the layer in a cache\n",
    "    # Inputs: \"A_prev, W, b\". \n",
    "    # Outputs: \"A, output_cache\".\n",
    "    #\n",
    "    if activation == \"sigmoid\":\n",
    "        Z, parameter_cache = linear_forward(A_prev, W, b)\n",
    "        A, output_cache = sigmoid(Z);\n",
    "    elif activation == \"relu\":\n",
    "        Z, parameter_cache = linear_forward(A_prev, W, b);\n",
    "        A, output_cache = relu(Z);\n",
    "    \n",
    "    assert (A.shape == (W.shape[0], A_prev.shape[1]))\n",
    "    all_cache = (parameter_cache, output_cache)\n",
    "\n",
    "    return A, all_cache"
   ]
  },
  {
   "cell_type": "code",
   "execution_count": 6,
   "metadata": {
    "collapsed": true,
    "jupyter": {
     "outputs_hidden": true
    },
    "tags": []
   },
   "outputs": [],
   "source": [
    "def L_model_forward(X, nlayers, parameters):\n",
    "    \"\"\"\n",
    "    Implement forward propagation for the [LINEAR->RELU]*(L-1)->LINEAR->SIGMOID computation\n",
    "    \n",
    "    Arguments:\n",
    "    X -- data, numpy array of shape (input size, number of examples)\n",
    "    parameters -- output of initialize_parameters_deep()\n",
    "    \n",
    "    Returns:\n",
    "    AL -- last post-activation value\n",
    "    caches -- list of caches containing:\n",
    "                every cache of linear_activation_forward() (there are L-1 of them, indexed from 0 to L-1)\n",
    "    \"\"\"\n",
    "\n",
    "    all_caches = []\n",
    "    A = X\n",
    "    L = nlayers\n",
    "    \n",
    "    #\n",
    "    # Go through each hidden layer and perform linear propagation\n",
    "    # Note that for all hidden layers, we are using RelU function to compute the activation\n",
    "    # As we are doing binary classification, we are using sigmoid activation for the final layer  \n",
    "    # Cache the results from each layer\n",
    "    #\n",
    "    AL = None;\n",
    "    for l in range(1, L+1):\n",
    "        A_prev = A;\n",
    "        W = parameters[\"W\" + str(l)];\n",
    "        b = parameters[\"b\" + str(l)];\n",
    "        \n",
    "        if (l == L):\n",
    "            AL, all_cache = linear_activation_forward(A_prev, W, b, activation = \"sigmoid\");\n",
    "        else:\n",
    "            A, all_cache = linear_activation_forward(A_prev, W, b, activation = \"relu\");\n",
    "        \n",
    "        all_caches.append(all_cache);\n",
    "    \n",
    "    assert(AL.shape == (1,X.shape[1]))\n",
    "    return AL, all_caches"
   ]
  },
  {
   "cell_type": "code",
   "execution_count": 7,
   "metadata": {
    "collapsed": true,
    "jupyter": {
     "outputs_hidden": true
    },
    "tags": []
   },
   "outputs": [],
   "source": [
    "def compute_cost(AL, Y):\n",
    "    \"\"\"\n",
    "    Implement the cross-entropy cost function\n",
    "\n",
    "    Arguments:\n",
    "    AL -- probability vector corresponding to your label predictions, shape (1, number of examples)\n",
    "    Y -- true \"label\" vector (for example: containing 0 if non-cat, 1 if cat), shape (1, number of examples)\n",
    "\n",
    "    Returns:\n",
    "    cost -- cross-entropy cost\n",
    "    \"\"\"\n",
    "    m = Y.shape[1]\n",
    "    logprobs = np.multiply (Y, np.log(AL)) + np.multiply ((1-Y), np.log(1-AL));\n",
    "    cost = - np.sum(logprobs)/m;  \n",
    "    \n",
    "    # Cost is a scalar value\n",
    "    # Use np.squeeze which removes single-dimensional entries from the shape of an array.\n",
    "    cost = np.squeeze(cost)     \n",
    "    assert(cost.shape == ())\n",
    "    return cost"
   ]
  },
  {
   "cell_type": "code",
   "execution_count": 8,
   "metadata": {
    "collapsed": true,
    "jupyter": {
     "outputs_hidden": true
    },
    "tags": []
   },
   "outputs": [],
   "source": [
    "def compute_cost_with_regularization(AL, Y, nlayers, parameters, lambd):\n",
    "    \"\"\"\n",
    "    Implement the cost function with L2 regularization. \n",
    "    \n",
    "    Arguments:\n",
    "    A3 -- post-activation, output of forward propagation, of shape (output size, number of examples)\n",
    "    Y -- \"true\" labels vector, of shape (output size, number of examples)\n",
    "    parameters -- python dictionary containing parameters of the model\n",
    "    \n",
    "    Returns:\n",
    "    cost - value of the regularized loss function (formula (2))\n",
    "    \"\"\"\n",
    "    L = nlayers \n",
    "    m = Y.shape[1]\n",
    "    \n",
    "    cross_entropy_cost = compute_cost(AL, Y) \n",
    "    \n",
    "    L2_regularization_cost = 0.0\n",
    "    for l in range(1, L+1):\n",
    "        W = parameters['W' + str(l)];\n",
    "        L2_regularization_cost = L2_regularization_cost + (np.sum(np.square(W)))\n",
    "    \n",
    "    L2_regularization_cost = lambd * L2_regularization_cost / (2*m);\n",
    "    cost = cross_entropy_cost + L2_regularization_cost\n",
    "    \n",
    "    return cost"
   ]
  },
  {
   "cell_type": "code",
   "execution_count": 9,
   "metadata": {
    "collapsed": true,
    "jupyter": {
     "outputs_hidden": true
    },
    "tags": []
   },
   "outputs": [],
   "source": [
    "def linear_backward(dZ, parameter_cache, lambd = 0.0):\n",
    "    \"\"\"\n",
    "    Implement the linear portion of backward propagation for a single layer (layer l)\n",
    "\n",
    "    Arguments:\n",
    "    dZ -- Gradient of the cost with respect to the linear output (of current layer l)\n",
    "    cache -- tuple of values (A_prev, W, b) coming from the forward propagation in the current layer\n",
    "\n",
    "    Returns:\n",
    "    dA_prev -- Gradient of the cost with respect to the activation (of the previous layer l-1), same shape as A_prev\n",
    "    dW -- Gradient of the cost with respect to W (current layer l), same shape as W\n",
    "    db -- Gradient of the cost with respect to b (current layer l), same shape as b\n",
    "    \"\"\"\n",
    "    A_prev, W, b = parameter_cache;\n",
    "    m = A_prev.shape[1];\n",
    "\n",
    "    dW = np.matmul (dZ, A_prev.T)/m + (lambd/m) * W;\n",
    "    db = np.sum(dZ, axis=1, keepdims=True)/m;\n",
    "    dA_prev = np.matmul (W.T, dZ);\n",
    "    \n",
    "    assert (dA_prev.shape == A_prev.shape);\n",
    "    assert (dW.shape == W.shape);\n",
    "    assert (db.shape == b.shape);\n",
    "    \n",
    "    return dA_prev, dW, db"
   ]
  },
  {
   "cell_type": "code",
   "execution_count": 10,
   "metadata": {
    "collapsed": true,
    "jupyter": {
     "outputs_hidden": true
    },
    "tags": []
   },
   "outputs": [],
   "source": [
    "def linear_activation_backward(dA, all_cache, activation, lambd = 0.0):\n",
    "    \"\"\"\n",
    "    Implement the backward propagation for the LINEAR->ACTIVATION layer.\n",
    "    \n",
    "    Arguments:\n",
    "    dA -- post-activation gradient for current layer l \n",
    "    cache -- tuple of values (linear_cache, activation_cache) we store for computing backward propagation efficiently\n",
    "    activation -- the activation to be used in this layer, stored as a text string: \"sigmoid\" or \"relu\"\n",
    "    \n",
    "    Returns:\n",
    "    dA_prev -- Gradient of the cost with respect to the activation (of the previous layer l-1), same shape as A_prev\n",
    "    dW -- Gradient of the cost with respect to W (current layer l), same shape as W\n",
    "    db -- Gradient of the cost with respect to b (current layer l), same shape as b\n",
    "    \"\"\"\n",
    "    parameter_cache, output_cache = all_cache\n",
    "    \n",
    "    dZ = None;\n",
    "    if activation == \"relu\":\n",
    "        dZ = relu_backward (dA, output_cache);\n",
    "    elif activation == \"sigmoid\":\n",
    "        dZ = sigmoid_backward (dA, output_cache);        \n",
    "        \n",
    "    dA_prev, dW, db = linear_backward(dZ, parameter_cache, lambd);     \n",
    "    return dA_prev, dW, db"
   ]
  },
  {
   "cell_type": "code",
   "execution_count": 11,
   "metadata": {
    "collapsed": true,
    "jupyter": {
     "outputs_hidden": true
    },
    "tags": []
   },
   "outputs": [],
   "source": [
    "def L_model_backward(AL, Y, nlayers, all_caches):\n",
    "    \"\"\"\n",
    "    Implement the backward propagation for the [LINEAR->RELU] * (L-1) -> LINEAR -> SIGMOID group\n",
    "    \n",
    "    Arguments:\n",
    "    AL -- probability vector, output of the forward propagation (L_model_forward())\n",
    "    Y -- true \"label\" vector (containing 0 if non-cat, 1 if cat)\n",
    "    caches -- list of caches containing:\n",
    "                every cache of linear_activation_forward() with \"relu\" (it's caches[l], for l in range(L-1) i.e l = 0...L-2)\n",
    "                the cache of linear_activation_forward() with \"sigmoid\" (it's caches[L-1])\n",
    "    \n",
    "    Returns:\n",
    "    gradients -- A dictionary with the gradients\n",
    "             gradients[\"dA\" + str(l)] = ... \n",
    "             gradients[\"dW\" + str(l)] = ...\n",
    "             grgradientsads[\"db\" + str(l)] = ... \n",
    "    \"\"\"\n",
    "    gradients = {}\n",
    "    L = nlayers\n",
    "    m = AL.shape[1]\n",
    "    Y = Y.reshape(AL.shape) \n",
    "    \n",
    "    #\n",
    "    # First, compute the change in cost function due to changes in the input to the last layer => dZL\n",
    "    # Next, compute dAL which is what we need to get started with back propagation.\n",
    "    #\n",
    "    dZL = AL - Y;\n",
    "    dAL = np.divide (dZL, np.multiply(AL, (1 - AL)));\n",
    "    \n",
    "    #\n",
    "    # Lth hidden layer (SIGMOID -> LINEAR) gradients. \n",
    "    # Inputs: \"dAL, current_cache\". \n",
    "    # Outputs: \"gradients[\"dAL-1\"], gradients[\"dWL\"], gradients[\"dbL\"]\n",
    "    #\n",
    "    current_cache = all_caches[L-1];\n",
    "    dA = dAL\n",
    "    gradients [\"dA\" + str(L-1)], \\\n",
    "    gradients [\"dW\" + str(L)], \\\n",
    "    gradients [\"db\" + str(L)] = linear_activation_backward(dA, current_cache, \"sigmoid\");\n",
    "    \n",
    "    #\n",
    "    # From the (L-1)th layer until the input layer,all layers are using RelU activation\n",
    "    # Hence, we can implement linear-activation backward step for these layers in a loop\n",
    "    #\n",
    "    for l in reversed(range(L-1)):\n",
    "        #\n",
    "        # lth layer: (RELU -> LINEAR) gradients.\n",
    "        # Inputs: \"gradients[\"dA\" + str(l + 1)], current_cache\". \n",
    "        # Outputs: \"gradients[\"dA\" + str(l)], gradients[\"dW\" + str(l + 1)], gradients[\"db\" + str(l + 1)] \n",
    "        #\n",
    "        current_cache = all_caches[l];\n",
    "        dA = gradients[\"dA\" + str(l + 1)];\n",
    "        gradients[\"dA\" + str(l)], \\\n",
    "        gradients[\"dW\" + str(l + 1)], \\\n",
    "        gradients[\"db\" + str(l + 1)] = linear_activation_backward(dA, current_cache, \"relu\");\n",
    "\n",
    "    return gradients"
   ]
  },
  {
   "cell_type": "code",
   "execution_count": 12,
   "metadata": {
    "collapsed": false,
    "jupyter": {
     "outputs_hidden": false
    },
    "tags": []
   },
   "outputs": [],
   "source": [
    "def update_parameters_adam (nlayers, parameters, gradients, momentum, rmsprop,\n",
    "                            t, learning_rate, beta1, beta2, lambd, m):\n",
    "    L = nlayers \n",
    "    decay_factor = 1 - (learning_rate*lambd/m);\n",
    "    epsilon = 1.0e-08\n",
    "    bias_correction = t;\n",
    "    \n",
    "    for l in range(1,L+1):\n",
    "        # Retrieve W & b from the dictionary \"parameters\"\n",
    "        W = parameters[\"W\" + str(l)];\n",
    "        b = parameters[\"b\" + str(l)];\n",
    "        \n",
    "        # Retrieve dW & db from the dictionary \"gradients\"\n",
    "        dW = gradients[\"dW\" + str(l)];\n",
    "        db = gradients[\"db\" + str(l)];\n",
    "        \n",
    "        # Retrieve vdW & vdb from the dictionary \"momentum\"\n",
    "        vdW = momentum[\"vdW\" + str(l)];\n",
    "        vdb = momentum[\"vdb\" + str(l)];        \n",
    "        \n",
    "        # Retrieve sdW & sdb from the dictionary \"rmsprop\"\n",
    "        sdW = rmsprop[\"sdW\" + str(l)];\n",
    "        sdb = rmsprop[\"sdb\" + str(l)];   \n",
    "        \n",
    "        # Compute the new momentum terms\n",
    "        vdW = beta1 * vdW + (1 - beta1) * dW\n",
    "        vdb = beta1 * vdb + (1 - beta1) * db\n",
    "        vdW_corrected = vdW/(1 - beta1**bias_correction);\n",
    "        vdb_corrected = vdb/(1 - beta1**bias_correction);\n",
    "        \n",
    "        # Compute the new rmsprop terms\n",
    "        sdW = beta2 * sdW + (1 - beta2) * np.multiply(dW,dW)\n",
    "        sdb = beta2 * sdb + (1 - beta2) * np.multiply(db,db)\n",
    "        sdW_corrected = sdW/(1 - beta2**bias_correction);\n",
    "        sdb_corrected = sdb/(1 - beta2**bias_correction);\n",
    "\n",
    "        #\n",
    "        # Update rule for each parameter\n",
    "        # Notice how regularization factors into the updates as a decay parameter, de-emphasizing the values of W & b.\n",
    "        # Notice how momentum & rmsprop factors into the updates by using the exponential averages of gradients vdW/sdW & vdb/sdb instead of dW & db\n",
    "        #\n",
    "        W = decay_factor * W - learning_rate * vdW_corrected/np.sqrt(sdW_corrected + epsilon);\n",
    "        b = decay_factor * b - learning_rate * vdb_corrected/np.sqrt(sdb_corrected + epsilon);\n",
    "    \n",
    "        parameters[\"W\" + str(l)] = W\n",
    "        parameters[\"b\" + str(l)] = b\n",
    "        \n",
    "        momentum[\"vdW\" + str(l)] = vdW\n",
    "        momentum[\"vdb\" + str(l)] = vdb\n",
    "        \n",
    "        rmsprop[\"sdW\" + str(l)] = sdW\n",
    "        rmsprop[\"sdb\" + str(l)] = sdb        \n",
    "                \n",
    "    return parameters, momentum, rmsprop"
   ]
  },
  {
   "cell_type": "code",
   "execution_count": 13,
   "metadata": {
    "collapsed": true,
    "jupyter": {
     "outputs_hidden": true
    },
    "tags": []
   },
   "outputs": [],
   "source": [
    "def update_parameters (nlayers, parameters, gradients, learning_rate, lambd, m):\n",
    "    L = nlayers \n",
    "    decay_factor = 1 - (learning_rate*lambd/m);\n",
    "    \n",
    "    for l in range(1,L+1):\n",
    "        # Retrieve W & b from the dictionary \"parameters\"\n",
    "        W = parameters[\"W\" + str(l)];\n",
    "        b = parameters[\"b\" + str(l)];\n",
    "        \n",
    "        # Retrieve dW & db from the dictionary \"gradients\"\n",
    "        dW = gradients[\"dW\" + str(l)];\n",
    "        db = gradients[\"db\" + str(l)];\n",
    "        \n",
    "        #\n",
    "        # Update rule for each parameter\n",
    "        # Notice how regularization factors into the updates as a decay parameter, de-emphasizing the values of W & b.\n",
    "        #\n",
    "        W = decay_factor * W - learning_rate * dW\n",
    "        b = decay_factor * b - learning_rate * db\n",
    "    \n",
    "        parameters[\"W\" + str(l)] = W\n",
    "        parameters[\"b\" + str(l)] = b\n",
    "                \n",
    "    return parameters"
   ]
  },
  {
   "cell_type": "code",
   "execution_count": 14,
   "metadata": {
    "collapsed": false,
    "jupyter": {
     "outputs_hidden": false
    },
    "tags": []
   },
   "outputs": [],
   "source": [
    "def L_layer_model(X, Y, \n",
    "                  layers_dims, num_iterations = 2501,\n",
    "                  learning_rate = 0.0075, beta1 = 0.9, beta2 = 0.999, lambd = 1000.,              \n",
    "                  init_method = \"he\",\n",
    "                  print_cost = False):\n",
    "    \"\"\"\n",
    "    Implements a L-layer neural network: [LINEAR->RELU]*(L-1)->LINEAR->SIGMOID.\n",
    "    \n",
    "    Arguments:\n",
    "    X -- data, numpy array of shape (number of features, number of examples)\n",
    "    Y -- true \"label\" vector (containing 0 if cat, 1 if non-cat), of shape (1, number of examples)\n",
    "    layers_dims -- list containing the input size and each layer size, of length (number of layers + 1).\n",
    "    learning_rate -- learning rate of the gradient descent update rule\n",
    "    num_iterations -- number of iterations of the optimization loop\n",
    "    print_cost -- if True, it prints the cost every 100 steps\n",
    "    \n",
    "    Returns:\n",
    "    parameters -- parameters learnt by the model. They can then be used to predict.\n",
    "    \"\"\"\n",
    "\n",
    "    np.random.seed(1)\n",
    "    costs = []        \n",
    "    m = Y.shape[1]\n",
    "    t = 0                            \n",
    "       \n",
    "    #\n",
    "    # Parameters initialization.\n",
    "    # Pay attention to how the parameters are initialized. This has a BIG effect on how the model performs.\n",
    "    # We have to randomize the parameter values across different layers and not choose the same values for all layers\n",
    "    #\n",
    "    parameters, momentum, rmsprop = initialize_parameters_momentum_rmsprop (layers_dims, method=init_method);\n",
    "    \n",
    "    #\n",
    "    # Gradient Descent Loop\n",
    "    #\n",
    "    for i in range(0, num_iterations):\n",
    "\n",
    "        # Increment a separate counter for Adam to handle mini-batch which will have an outer loop\n",
    "        t = t + 1\n",
    "        \n",
    "        # Forward propagation: [LINEAR -> RELU]*(L-1) -> LINEAR -> SIGMOID.\n",
    "        AL, all_caches = L_model_forward(X, nlayers, parameters);\n",
    "        \n",
    "        # Compute cost.\n",
    "        cost = compute_cost_with_regularization(AL, Y, nlayers, parameters, lambd)\n",
    "    \n",
    "        # Backward propagation.\n",
    "        gradients = L_model_backward(AL, Y, nlayers, all_caches);\n",
    " \n",
    "        # Update parameters.\n",
    "        #parameters = update_parameters (nlayers, parameters, gradients, learning_rate, lambd, m)\n",
    "        parameters, momentum, rmsprop = update_parameters_adam (nlayers, parameters, gradients, momentum, rmsprop,\n",
    "                                                                t, learning_rate, beta1, beta2, lambd, m)\n",
    "                \n",
    "        # Print the cost every 100 training example\n",
    "        if print_cost and i % 100 == 0:\n",
    "            print(\"Cost after iteration {}: {}\".format(i, cost))\n",
    "        if print_cost and i % 100 == 0:\n",
    "            costs.append(cost)\n",
    "            \n",
    "    #\n",
    "    # plot the cost\n",
    "    #\n",
    "    plt.plot(np.squeeze(costs))\n",
    "    plt.ylabel('cost')\n",
    "    plt.xlabel('iterations (per tens)')\n",
    "    plt.title(\"Learning rate =\" + str(learning_rate))\n",
    "    plt.show()\n",
    "    \n",
    "    return parameters"
   ]
  },
  {
   "cell_type": "code",
   "execution_count": 16,
   "metadata": {
    "tags": []
   },
   "outputs": [],
   "source": [
    "def load_dataset():\n",
    "    train_dataset = h5py.File('datasets/train_catvnoncat.h5', \"r\")\n",
    "    train_set_x_orig = np.array(train_dataset[\"train_set_x\"][:]) # your train set features\n",
    "    train_set_y_orig = np.array(train_dataset[\"train_set_y\"][:]) # your train set labels\n",
    "\n",
    "    test_dataset = h5py.File('datasets/test_catvnoncat.h5', \"r\")\n",
    "    test_set_x_orig = np.array(test_dataset[\"test_set_x\"][:]) # your test set features\n",
    "    test_set_y_orig = np.array(test_dataset[\"test_set_y\"][:]) # your test set labels\n",
    "\n",
    "    classes = np.array(test_dataset[\"list_classes\"][:]) # the list of classes\n",
    "    \n",
    "    train_set_y_orig = train_set_y_orig.reshape((1, train_set_y_orig.shape[0]))\n",
    "    test_set_y_orig = test_set_y_orig.reshape((1, test_set_y_orig.shape[0]))\n",
    "    \n",
    "    return train_set_x_orig, train_set_y_orig, test_set_x_orig, test_set_y_orig, classes"
   ]
  },
  {
   "cell_type": "code",
   "execution_count": 17,
   "metadata": {
    "tags": []
   },
   "outputs": [],
   "source": [
    "def normalize_features(X):\n",
    "    mu = np.mean(X, axis=0)                 \n",
    "    sigma  = np.std(X, axis=0)                  \n",
    "    X_norm = (X - mu) / sigma      \n",
    "    return (X_norm, mu, sigma)"
   ]
  },
  {
   "cell_type": "code",
   "execution_count": 18,
   "metadata": {
    "collapsed": false,
    "jupyter": {
     "outputs_hidden": false
    },
    "tags": []
   },
   "outputs": [
    {
     "name": "stdout",
     "output_type": "stream",
     "text": [
      "Training set size = 209\n",
      "Training set shape = (209, 64, 64, 3)\n",
      "Height/Width of each image = 64\n",
      "Test set size = 50\n",
      "Number of labels = (1, 209)\n",
      "(209, 64, 64, 3)\n"
     ]
    }
   ],
   "source": [
    "#\n",
    "# Read the original dataset\n",
    "#\n",
    "train_set_x_orig, train_set_y, test_set_x_orig, test_set_y, classes = load_dataset();\n",
    "m_train = train_set_x_orig.shape[0]\n",
    "m_test = test_set_x_orig.shape[0]\n",
    "num_px = train_set_x_orig.shape[1]\n",
    "print (\"Training set size = \" + str(m_train))\n",
    "print (\"Training set shape = \" + str(train_set_x_orig.shape));\n",
    "print (\"Height/Width of each image = \" + str(num_px))\n",
    "print (\"Test set size = \" + str(m_test))\n",
    "print (\"Number of labels = \" + str(train_set_y.shape));\n",
    "print (train_set_x_orig.shape);"
   ]
  },
  {
   "cell_type": "code",
   "execution_count": 19,
   "metadata": {
    "collapsed": false,
    "jupyter": {
     "outputs_hidden": false
    },
    "tags": []
   },
   "outputs": [
    {
     "name": "stdout",
     "output_type": "stream",
     "text": [
      "Flattened Training set size = 209\n",
      "Flattened Training set shape = (209, 12288)\n",
      "Flattened Test set size = 50\n",
      "Number of features = 12288\n",
      "(209, 12288)\n"
     ]
    }
   ],
   "source": [
    "#\n",
    "# Flatten the data so that each (num_px, num_px, 3) image is represented numpy-array of shape (num_px * num_px * 3, 1) \n",
    "#\n",
    "train_set_x_flatten= np.reshape (train_set_x_orig, (m_train,-1), \"C\")\n",
    "test_set_x_flatten= np.reshape (test_set_x_orig, (m_test,-1), \"C\")\n",
    "m_train = train_set_x_flatten.shape[0]\n",
    "m_test = test_set_x_flatten.shape[0]\n",
    "n_features = train_set_x_flatten.shape[1]\n",
    "print (\"Flattened Training set size = \" + str(m_train))\n",
    "print (\"Flattened Training set shape = \" + str(train_set_x_flatten.shape));\n",
    "print (\"Flattened Test set size = \" + str(m_test))\n",
    "print (\"Number of features = \" + str(n_features))\n",
    "print (train_set_x_flatten.shape);"
   ]
  },
  {
   "cell_type": "code",
   "execution_count": 20,
   "metadata": {
    "collapsed": false,
    "jupyter": {
     "outputs_hidden": false
    },
    "tags": []
   },
   "outputs": [
    {
     "name": "stdout",
     "output_type": "stream",
     "text": [
      "Maximum mean & std in training set = 134.2153110047847 and 81.44342276651373\n",
      "Maximum mean & std in training set after normalization = 2.407696583307905e-16 and 1.000000000000001\n"
     ]
    }
   ],
   "source": [
    "#\n",
    "# Normalize the training and test data\n",
    "# After normalization, the mean value in each feature should be close to 0 and variance should be close to 1\n",
    "# Without normalization, Gradient Descent diverges right away for the same hyperparameters for this use case.\n",
    "#\n",
    "max_mu = np.max(np.mean(train_set_x_flatten, axis=0), axis=0)\n",
    "max_std = np.max(np.std(train_set_x_flatten, axis=0), axis=0)\n",
    "print (\"Maximum mean & std in training set = {} and {}\".format (max_mu, max_std));\n",
    "\n",
    "train_set_x_norm, train_mu, train_sigma = normalize_features(train_set_x_flatten) \n",
    "\n",
    "max_mu = np.max(np.mean(train_set_x_norm, axis=0), axis=0)\n",
    "max_std = np.max(np.std(train_set_x_norm, axis=0), axis=0)\n",
    "print (\"Maximum mean & std in training set after normalization = {} and {}\".format (max_mu, max_std));\n",
    "\n",
    "#\n",
    "# It is important to normalize the test data using the same mean & variance value used for training set\n",
    "#\n",
    "test_set_x_norm = (test_set_x_flatten - train_mu)/train_sigma\n",
    "\n",
    "#\n",
    "# Constants defining the number of layers in the model\n",
    "# Note that the number of units in the first layer must be equal to the number of features in a training sample\n",
    "# The first layer is not counted as a hidden layer. \n",
    "# Weights & parameters are computed only for the hidden layers.\n",
    "#\n",
    "layers_dims = [12288, 20, 7, 5, 1] \n",
    "nlayers = len(layers_dims)-1"
   ]
  },
  {
   "cell_type": "code",
   "execution_count": 22,
   "metadata": {
    "collapsed": false,
    "jupyter": {
     "outputs_hidden": false
    },
    "tags": []
   },
   "outputs": [
    {
     "name": "stdout",
     "output_type": "stream",
     "text": [
      "Initializing parameters with 'he' method\n",
      "Cost after iteration 0: 1.8495063747767715\n",
      "Cost after iteration 100: 0.5101219913122284\n",
      "Cost after iteration 200: 0.47433306464841507\n",
      "Cost after iteration 300: 0.4098983036881122\n",
      "Cost after iteration 400: 0.36462625553353895\n",
      "Cost after iteration 500: 0.3358929083921332\n",
      "Cost after iteration 600: 0.31944958957158026\n",
      "Cost after iteration 700: 0.31137654877909626\n",
      "Cost after iteration 800: 0.30792835465114415\n",
      "Cost after iteration 900: 0.30665962836655053\n",
      "Cost after iteration 1000: 0.30623013267746413\n",
      "Cost after iteration 1100: 0.3061114012943544\n",
      "Cost after iteration 1200: 0.30606824712637754\n",
      "Cost after iteration 1300: 0.3060562548089629\n",
      "Cost after iteration 1400: 0.3060555461846977\n",
      "Cost after iteration 1500: 0.30605261852091187\n",
      "Cost after iteration 1600: 0.30605367704428876\n",
      "Cost after iteration 1700: 0.3060530695107565\n",
      "Cost after iteration 1800: 0.30605397659203715\n",
      "Cost after iteration 1900: 0.30605315975683783\n",
      "Cost after iteration 2000: 0.30608365538687027\n",
      "Cost after iteration 2100: 0.30313113980357087\n",
      "Cost after iteration 2200: 0.3029675035488141\n",
      "Cost after iteration 2300: 0.30295039637727167\n",
      "Cost after iteration 2400: 0.3029335640864838\n",
      "Cost after iteration 2500: 0.30291870064830695\n"
     ]
    },
    {
     "data": {
      "image/png": "[encoded data removed]",
      "text/plain": [
       "<Figure size 500x400 with 1 Axes>"
      ]
     },
     "metadata": {},
     "output_type": "display_data"
    }
   ],
   "source": [
    "parameters = L_layer_model(train_set_x_norm.T, \\\n",
    "                           train_set_y, \\\n",
    "                           layers_dims, num_iterations = 2501, \\\n",
    "                           learning_rate = 0.001, beta1 = 0.9, beta2 = 0.999, lambd = 0.01, \\\n",
    "                           init_method = \"he\", print_cost = True)"
   ]
  },
  {
   "cell_type": "code",
   "execution_count": 41,
   "metadata": {
    "collapsed": true,
    "jupyter": {
     "outputs_hidden": true
    }
   },
   "outputs": [],
   "source": [
    "def predict(X, Y, nlayers, parameters):\n",
    "    m = X.shape[1]\n",
    "    probabilities, caches = L_model_forward(X, nlayers, parameters)\n",
    "    predictions = (probabilities > 0.5).astype(int)\n",
    "    print(\"Accuracy: \" + str(np.sum((predictions == Y)/m)))\n",
    "    return predictions"
   ]
  },
  {
   "cell_type": "code",
   "execution_count": 42,
   "metadata": {
    "collapsed": false,
    "jupyter": {
     "outputs_hidden": false
    }
   },
   "outputs": [
    {
     "name": "stdout",
     "output_type": "stream",
     "text": [
      "Accuracy: 0.894736842105\n",
      "Accuracy: 0.7\n"
     ]
    }
   ],
   "source": [
    "train_predictions = predict(train_set_x_norm.T, train_set_y, nlayers, parameters)\n",
    "train_predictions = predict(test_set_x_norm.T, test_set_y, nlayers, parameters)"
   ]
  },
  {
   "cell_type": "code",
   "execution_count": null,
   "metadata": {
    "collapsed": true,
    "jupyter": {
     "outputs_hidden": true
    }
   },
   "outputs": [],
   "source": []
  }
 ],
 "metadata": {
  "coursera": {
   "course_slug": "neural-networks-deep-learning",
   "graded_item_id": "c4HO0",
   "launcher_item_id": "lSYZM"
  },
  "instance_type": "ml.t3.medium",
  "kernelspec": {
   "display_name": "Python 3 (Data Science)",
   "language": "python",
   "name": "python3__SAGEMAKER_INTERNAL__arn:aws:sagemaker:us-east-1:081325390199:image/datascience-1.0"
  },
  "language_info": {
   "codemirror_mode": {
    "name": "ipython",
    "version": 3
   },
   "file_extension": ".py",
   "mimetype": "text/x-python",
   "name": "python",
   "nbconvert_exporter": "python",
   "pygments_lexer": "ipython3",
   "version": "3.7.10"
  }
 },
 "nbformat": 4,
 "nbformat_minor": 4
}
