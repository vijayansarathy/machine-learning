{
 "cells": [
  {
   "cell_type": "markdown",
   "id": "7ad128da",
   "metadata": {},
   "source": [
    "# Neural Machine Translation with Attention\n",
    "\n",
    "Welcome to the first assignment of Course 4. Here, you will build an English-to-German neural machine translation (NMT) model using Long Short-Term Memory (LSTM) networks with attention.  Machine translation is an important task in natural language processing and could be useful not only for translating one language to another but also for word sense disambiguation (e.g. determining whether the word \"bank\" refers to the financial bank, or the land alongside a river). Implementing this using just a Recurrent Neural Network (RNN) with LSTMs can work for short to medium length sentences but can result in vanishing gradients for very long sequences. To solve this, you will be adding an attention mechanism to allow the decoder to access all relevant parts of the input sentence regardless of its length. By completing this assignment, you will:  \n",
    "\n",
    "- learn how to preprocess your training and evaluation data\n",
    "- implement an encoder-decoder system with attention\n",
    "- understand how attention works\n",
    "- build the NMT model from scratch using Trax\n",
    "- generate translations using greedy and Minimum Bayes Risk (MBR) decoding \n",
    "\n",
    "## Outline\n",
    "- [Part 1:  Data Preparation](#1)\n",
    "    - [1.1  Importing the Data](#1.1)\n",
    "    - [1.2  Tokenization and Formatting](#1.2)\n",
    "    - [1.3  Tokenize & detokenize helper functions](#1.3)\n",
    "    - [1.4  Bucketing](#1.4)\n",
    "    - [1.5  Exploring the data](#1.5)\n",
    "- [Part 2:  Neural Machine Translation with Attention](#2)\n",
    "    - [2.1  Attention Overview](#2.1)\n",
    "    - [2.2  Helper functions](#2.2)\n",
    "        - [Exercise 01](#ex01)\n",
    "        - [Exercise 02](#ex02)\n",
    "        - [Exercise 03](#ex03)\n",
    "    - [2.3  Implementation Overview](#2.3)\n",
    "        - [Exercise 04](#ex04)\n",
    "- [Part 3:  Training](#3)\n",
    "    - [3.1  TrainTask](#3.1)\n",
    "        - [Exercise 05](#ex05)\n",
    "    - [3.2  EvalTask](#3.2)\n",
    "    - [3.3  Loop](#3.3)\n",
    "- [Part 4:  Testing](#4)\n",
    "    - [4.1  Decoding](#4.1)\n",
    "        - [Exercise 06](#ex06)\n",
    "        - [Exercise 07](#ex07)\n",
    "    - [4.2  Minimum Bayes-Risk Decoding](#4.2)\n",
    "        - [Exercise 08](#ex08)\n",
    "        - [Exercise 09](#ex09)\n",
    "        - [Exercise 10](#ex10)\n"
   ]
  },
  {
   "cell_type": "markdown",
   "id": "56d4dc97",
   "metadata": {},
   "source": [
    "<a name=\"1\"></a>\n",
    "# Part 1:  Data Preparation\n"
   ]
  },
  {
   "cell_type": "markdown",
   "id": "d5c34315",
   "metadata": {},
   "source": [
    "<a name=\"1.1\"></a>\n",
    "## 1.1  Importing the Data\n",
    "\n",
    "We will first start by importing the packages we will use in this assignment. As in the previous course of this specialization, we will use the [Trax](https://github.com/google/trax) library created and maintained by the [Google Brain team](https://research.google/teams/brain/) to do most of the heavy lifting. It provides submodules to fetch and process the datasets, as well as build and train the model."
   ]
  },
  {
   "cell_type": "code",
   "execution_count": 26,
   "id": "7bcdd7b1-c294-4cab-9d4b-e227134367fe",
   "metadata": {
    "tags": []
   },
   "outputs": [
    {
     "name": "stdout",
     "output_type": "stream",
     "text": [
      "Requirement already satisfied: trax==1.3.9 in /opt/conda/lib/python3.7/site-packages (1.3.9)\n",
      "Requirement already satisfied: absl-py in /opt/conda/lib/python3.7/site-packages (from trax==1.3.9) (1.4.0)\n",
      "Requirement already satisfied: jaxlib in /opt/conda/lib/python3.7/site-packages (from trax==1.3.9) (0.3.25)\n",
      "Requirement already satisfied: psutil in /opt/conda/lib/python3.7/site-packages (from trax==1.3.9) (5.6.7)\n",
      "Requirement already satisfied: t5 in /opt/conda/lib/python3.7/site-packages (from trax==1.3.9) (0.9.4)\n",
      "Requirement already satisfied: scipy in /opt/conda/lib/python3.7/site-packages (from trax==1.3.9) (1.7.3)\n",
      "Requirement already satisfied: gin-config in /opt/conda/lib/python3.7/site-packages (from trax==1.3.9) (0.5.0)\n",
      "Requirement already satisfied: funcsigs in /opt/conda/lib/python3.7/site-packages (from trax==1.3.9) (1.0.2)\n",
      "Requirement already satisfied: tensorflow-text in /opt/conda/lib/python3.7/site-packages (from trax==1.3.9) (2.11.0)\n",
      "Requirement already satisfied: matplotlib in /opt/conda/lib/python3.7/site-packages (from trax==1.3.9) (3.1.3)\n",
      "Requirement already satisfied: numpy in /opt/conda/lib/python3.7/site-packages (from trax==1.3.9) (1.21.6)\n",
      "Requirement already satisfied: six in /opt/conda/lib/python3.7/site-packages (from trax==1.3.9) (1.14.0)\n",
      "Requirement already satisfied: gym in /opt/conda/lib/python3.7/site-packages (from trax==1.3.9) (0.26.2)\n",
      "Requirement already satisfied: tensorflow-datasets in /opt/conda/lib/python3.7/site-packages (from trax==1.3.9) (4.8.2)\n",
      "Requirement already satisfied: jax in /opt/conda/lib/python3.7/site-packages (from trax==1.3.9) (0.3.25)\n",
      "Requirement already satisfied: cloudpickle>=1.2.0 in /opt/conda/lib/python3.7/site-packages (from gym->trax==1.3.9) (2.2.1)\n",
      "Requirement already satisfied: importlib-metadata>=4.8.0 in /opt/conda/lib/python3.7/site-packages (from gym->trax==1.3.9) (6.3.0)\n",
      "Requirement already satisfied: gym-notices>=0.0.4 in /opt/conda/lib/python3.7/site-packages (from gym->trax==1.3.9) (0.0.8)\n",
      "Requirement already satisfied: opt-einsum in /opt/conda/lib/python3.7/site-packages (from jax->trax==1.3.9) (3.3.0)\n",
      "Requirement already satisfied: typing-extensions in /opt/conda/lib/python3.7/site-packages (from jax->trax==1.3.9) (4.5.0)\n",
      "Requirement already satisfied: kiwisolver>=1.0.1 in /opt/conda/lib/python3.7/site-packages (from matplotlib->trax==1.3.9) (1.1.0)\n",
      "Requirement already satisfied: cycler>=0.10 in /opt/conda/lib/python3.7/site-packages (from matplotlib->trax==1.3.9) (0.10.0)\n",
      "Requirement already satisfied: pyparsing!=2.0.4,!=2.1.2,!=2.1.6,>=2.0.1 in /opt/conda/lib/python3.7/site-packages (from matplotlib->trax==1.3.9) (2.4.6)\n",
      "Requirement already satisfied: python-dateutil>=2.1 in /opt/conda/lib/python3.7/site-packages (from matplotlib->trax==1.3.9) (2.8.2)\n",
      "Requirement already satisfied: mesh-tensorflow[transformer]>=0.1.13 in /opt/conda/lib/python3.7/site-packages (from t5->trax==1.3.9) (0.1.21)\n",
      "Requirement already satisfied: scikit-learn in /opt/conda/lib/python3.7/site-packages (from t5->trax==1.3.9) (0.22.1)\n",
      "Requirement already satisfied: seqio-nightly in /opt/conda/lib/python3.7/site-packages (from t5->trax==1.3.9) (0.0.15.dev20230506)\n",
      "Requirement already satisfied: editdistance in /opt/conda/lib/python3.7/site-packages (from t5->trax==1.3.9) (0.6.2)\n",
      "Requirement already satisfied: sentencepiece in /opt/conda/lib/python3.7/site-packages (from t5->trax==1.3.9) (0.1.99)\n",
      "Requirement already satisfied: tfds-nightly in /opt/conda/lib/python3.7/site-packages (from t5->trax==1.3.9) (4.8.2.dev202301270045)\n",
      "Requirement already satisfied: nltk in /opt/conda/lib/python3.7/site-packages (from t5->trax==1.3.9) (3.8.1)\n",
      "Requirement already satisfied: transformers>=2.7.0 in /opt/conda/lib/python3.7/site-packages (from t5->trax==1.3.9) (4.28.1)\n",
      "Requirement already satisfied: sacrebleu in /opt/conda/lib/python3.7/site-packages (from t5->trax==1.3.9) (2.3.1)\n",
      "Requirement already satisfied: babel in /opt/conda/lib/python3.7/site-packages (from t5->trax==1.3.9) (2.12.1)\n",
      "Requirement already satisfied: immutabledict in /opt/conda/lib/python3.7/site-packages (from t5->trax==1.3.9) (2.2.4)\n",
      "Requirement already satisfied: rouge-score>=0.1.2 in /opt/conda/lib/python3.7/site-packages (from t5->trax==1.3.9) (0.1.2)\n",
      "Requirement already satisfied: pandas in /opt/conda/lib/python3.7/site-packages (from t5->trax==1.3.9) (1.3.5)\n",
      "Requirement already satisfied: dm-tree in /opt/conda/lib/python3.7/site-packages (from tensorflow-datasets->trax==1.3.9) (0.1.8)\n",
      "Requirement already satisfied: dill in /opt/conda/lib/python3.7/site-packages (from tensorflow-datasets->trax==1.3.9) (0.3.6)\n",
      "Requirement already satisfied: termcolor in /opt/conda/lib/python3.7/site-packages (from tensorflow-datasets->trax==1.3.9) (2.3.0)\n",
      "Requirement already satisfied: wrapt in /opt/conda/lib/python3.7/site-packages (from tensorflow-datasets->trax==1.3.9) (1.11.2)\n",
      "Requirement already satisfied: click in /opt/conda/lib/python3.7/site-packages (from tensorflow-datasets->trax==1.3.9) (7.0)\n",
      "Requirement already satisfied: requests>=2.19.0 in /opt/conda/lib/python3.7/site-packages (from tensorflow-datasets->trax==1.3.9) (2.28.2)\n",
      "Requirement already satisfied: tqdm in /opt/conda/lib/python3.7/site-packages (from tensorflow-datasets->trax==1.3.9) (4.42.1)\n",
      "Requirement already satisfied: etils[enp,epath]>=0.9.0 in /opt/conda/lib/python3.7/site-packages (from tensorflow-datasets->trax==1.3.9) (0.9.0)\n",
      "Requirement already satisfied: toml in /opt/conda/lib/python3.7/site-packages (from tensorflow-datasets->trax==1.3.9) (0.10.2)\n",
      "Requirement already satisfied: tensorflow-metadata in /opt/conda/lib/python3.7/site-packages (from tensorflow-datasets->trax==1.3.9) (1.12.0)\n",
      "Requirement already satisfied: promise in /opt/conda/lib/python3.7/site-packages (from tensorflow-datasets->trax==1.3.9) (2.3)\n",
      "Requirement already satisfied: importlib-resources in /opt/conda/lib/python3.7/site-packages (from tensorflow-datasets->trax==1.3.9) (5.12.0)\n",
      "Requirement already satisfied: protobuf>=3.12.2 in /opt/conda/lib/python3.7/site-packages (from tensorflow-datasets->trax==1.3.9) (3.19.6)\n",
      "Requirement already satisfied: tensorflow-hub>=0.8.0 in /opt/conda/lib/python3.7/site-packages (from tensorflow-text->trax==1.3.9) (0.13.0)\n",
      "Requirement already satisfied: tensorflow<2.12,>=2.11.0 in /opt/conda/lib/python3.7/site-packages (from tensorflow-text->trax==1.3.9) (2.11.0)\n",
      "Requirement already satisfied: zipp in /opt/conda/lib/python3.7/site-packages (from etils[enp,epath]>=0.9.0->tensorflow-datasets->trax==1.3.9) (3.15.0)\n",
      "Requirement already satisfied: setuptools in /opt/conda/lib/python3.7/site-packages (from kiwisolver>=1.0.1->matplotlib->trax==1.3.9) (59.3.0)\n",
      "Requirement already satisfied: future in /opt/conda/lib/python3.7/site-packages (from mesh-tensorflow[transformer]>=0.1.13->t5->trax==1.3.9) (0.18.2)\n",
      "Requirement already satisfied: charset-normalizer<4,>=2 in /opt/conda/lib/python3.7/site-packages (from requests>=2.19.0->tensorflow-datasets->trax==1.3.9) (2.0.4)\n",
      "Requirement already satisfied: urllib3<1.27,>=1.21.1 in /opt/conda/lib/python3.7/site-packages (from requests>=2.19.0->tensorflow-datasets->trax==1.3.9) (1.26.15)\n",
      "Requirement already satisfied: certifi>=2017.4.17 in /opt/conda/lib/python3.7/site-packages (from requests>=2.19.0->tensorflow-datasets->trax==1.3.9) (2022.12.7)\n",
      "Requirement already satisfied: idna<4,>=2.5 in /opt/conda/lib/python3.7/site-packages (from requests>=2.19.0->tensorflow-datasets->trax==1.3.9) (2.8)\n",
      "Requirement already satisfied: tensorboard<2.12,>=2.11 in /opt/conda/lib/python3.7/site-packages (from tensorflow<2.12,>=2.11.0->tensorflow-text->trax==1.3.9) (2.11.2)\n",
      "Requirement already satisfied: tensorflow-estimator<2.12,>=2.11.0 in /opt/conda/lib/python3.7/site-packages (from tensorflow<2.12,>=2.11.0->tensorflow-text->trax==1.3.9) (2.11.0)\n",
      "Requirement already satisfied: flatbuffers>=2.0 in /opt/conda/lib/python3.7/site-packages (from tensorflow<2.12,>=2.11.0->tensorflow-text->trax==1.3.9) (23.3.3)\n",
      "Requirement already satisfied: keras<2.12,>=2.11.0 in /opt/conda/lib/python3.7/site-packages (from tensorflow<2.12,>=2.11.0->tensorflow-text->trax==1.3.9) (2.11.0)\n",
      "Requirement already satisfied: tensorflow-io-gcs-filesystem>=0.23.1 in /opt/conda/lib/python3.7/site-packages (from tensorflow<2.12,>=2.11.0->tensorflow-text->trax==1.3.9) (0.32.0)\n",
      "Requirement already satisfied: grpcio<2.0,>=1.24.3 in /opt/conda/lib/python3.7/site-packages (from tensorflow<2.12,>=2.11.0->tensorflow-text->trax==1.3.9) (1.54.0)\n",
      "Requirement already satisfied: gast<=0.4.0,>=0.2.1 in /opt/conda/lib/python3.7/site-packages (from tensorflow<2.12,>=2.11.0->tensorflow-text->trax==1.3.9) (0.4.0)\n",
      "Requirement already satisfied: packaging in /opt/conda/lib/python3.7/site-packages (from tensorflow<2.12,>=2.11.0->tensorflow-text->trax==1.3.9) (23.1)\n",
      "Requirement already satisfied: google-pasta>=0.1.1 in /opt/conda/lib/python3.7/site-packages (from tensorflow<2.12,>=2.11.0->tensorflow-text->trax==1.3.9) (0.2.0)\n",
      "Requirement already satisfied: astunparse>=1.6.0 in /opt/conda/lib/python3.7/site-packages (from tensorflow<2.12,>=2.11.0->tensorflow-text->trax==1.3.9) (1.6.3)\n",
      "Requirement already satisfied: h5py>=2.9.0 in /opt/conda/lib/python3.7/site-packages (from tensorflow<2.12,>=2.11.0->tensorflow-text->trax==1.3.9) (2.10.0)\n",
      "Requirement already satisfied: libclang>=13.0.0 in /opt/conda/lib/python3.7/site-packages (from tensorflow<2.12,>=2.11.0->tensorflow-text->trax==1.3.9) (16.0.0)\n",
      "Requirement already satisfied: pyyaml>=5.1 in /opt/conda/lib/python3.7/site-packages (from transformers>=2.7.0->t5->trax==1.3.9) (6.0)\n",
      "Requirement already satisfied: filelock in /opt/conda/lib/python3.7/site-packages (from transformers>=2.7.0->t5->trax==1.3.9) (3.0.12)\n",
      "Requirement already satisfied: huggingface-hub<1.0,>=0.11.0 in /opt/conda/lib/python3.7/site-packages (from transformers>=2.7.0->t5->trax==1.3.9) (0.14.1)\n",
      "Requirement already satisfied: regex!=2019.12.17 in /opt/conda/lib/python3.7/site-packages (from transformers>=2.7.0->t5->trax==1.3.9) (2022.10.31)\n",
      "Requirement already satisfied: tokenizers!=0.11.3,<0.14,>=0.11.1 in /opt/conda/lib/python3.7/site-packages (from transformers>=2.7.0->t5->trax==1.3.9) (0.13.3)\n",
      "Requirement already satisfied: pytz>=2015.7 in /opt/conda/lib/python3.7/site-packages (from babel->t5->trax==1.3.9) (2019.3)\n",
      "Requirement already satisfied: joblib in /opt/conda/lib/python3.7/site-packages (from nltk->t5->trax==1.3.9) (1.2.0)\n",
      "Requirement already satisfied: colorama in /opt/conda/lib/python3.7/site-packages (from sacrebleu->t5->trax==1.3.9) (0.4.3)\n",
      "Requirement already satisfied: portalocker in /opt/conda/lib/python3.7/site-packages (from sacrebleu->t5->trax==1.3.9) (2.7.0)\n",
      "Requirement already satisfied: tabulate>=0.8.9 in /opt/conda/lib/python3.7/site-packages (from sacrebleu->t5->trax==1.3.9) (0.9.0)\n",
      "Requirement already satisfied: lxml in /opt/conda/lib/python3.7/site-packages (from sacrebleu->t5->trax==1.3.9) (4.9.2)\n",
      "Requirement already satisfied: pyglove in /opt/conda/lib/python3.7/site-packages (from seqio-nightly->t5->trax==1.3.9) (0.3.0)\n",
      "Requirement already satisfied: clu in /opt/conda/lib/python3.7/site-packages (from seqio-nightly->t5->trax==1.3.9) (0.0.9)\n",
      "Requirement already satisfied: googleapis-common-protos<2,>=1.52.0 in /opt/conda/lib/python3.7/site-packages (from tensorflow-metadata->tensorflow-datasets->trax==1.3.9) (1.59.0)\n",
      "Requirement already satisfied: wheel<1.0,>=0.23.0 in /opt/conda/lib/python3.7/site-packages (from astunparse>=1.6.0->tensorflow<2.12,>=2.11.0->tensorflow-text->trax==1.3.9) (0.40.0)\n",
      "Requirement already satisfied: fsspec in /opt/conda/lib/python3.7/site-packages (from huggingface-hub<1.0,>=0.11.0->transformers>=2.7.0->t5->trax==1.3.9) (2023.1.0)\n",
      "Requirement already satisfied: markdown>=2.6.8 in /opt/conda/lib/python3.7/site-packages (from tensorboard<2.12,>=2.11->tensorflow<2.12,>=2.11.0->tensorflow-text->trax==1.3.9) (3.4.3)\n",
      "Requirement already satisfied: tensorboard-plugin-wit>=1.6.0 in /opt/conda/lib/python3.7/site-packages (from tensorboard<2.12,>=2.11->tensorflow<2.12,>=2.11.0->tensorflow-text->trax==1.3.9) (1.8.1)\n",
      "Requirement already satisfied: google-auth-oauthlib<0.5,>=0.4.1 in /opt/conda/lib/python3.7/site-packages (from tensorboard<2.12,>=2.11->tensorflow<2.12,>=2.11.0->tensorflow-text->trax==1.3.9) (0.4.6)\n",
      "Requirement already satisfied: google-auth<3,>=1.6.3 in /opt/conda/lib/python3.7/site-packages (from tensorboard<2.12,>=2.11->tensorflow<2.12,>=2.11.0->tensorflow-text->trax==1.3.9) (2.17.3)\n",
      "Requirement already satisfied: tensorboard-data-server<0.7.0,>=0.6.0 in /opt/conda/lib/python3.7/site-packages (from tensorboard<2.12,>=2.11->tensorflow<2.12,>=2.11.0->tensorflow-text->trax==1.3.9) (0.6.1)\n",
      "Requirement already satisfied: werkzeug>=1.0.1 in /opt/conda/lib/python3.7/site-packages (from tensorboard<2.12,>=2.11->tensorflow<2.12,>=2.11.0->tensorflow-text->trax==1.3.9) (2.2.3)\n",
      "Requirement already satisfied: flax in /opt/conda/lib/python3.7/site-packages (from clu->seqio-nightly->t5->trax==1.3.9) (0.6.4)\n",
      "Requirement already satisfied: ml-collections in /opt/conda/lib/python3.7/site-packages (from clu->seqio-nightly->t5->trax==1.3.9) (0.1.1)\n",
      "Requirement already satisfied: rsa<5,>=3.1.4 in /opt/conda/lib/python3.7/site-packages (from google-auth<3,>=1.6.3->tensorboard<2.12,>=2.11->tensorflow<2.12,>=2.11.0->tensorflow-text->trax==1.3.9) (4.9)\n",
      "Requirement already satisfied: cachetools<6.0,>=2.0.0 in /opt/conda/lib/python3.7/site-packages (from google-auth<3,>=1.6.3->tensorboard<2.12,>=2.11->tensorflow<2.12,>=2.11.0->tensorflow-text->trax==1.3.9) (5.3.0)\n",
      "Requirement already satisfied: pyasn1-modules>=0.2.1 in /opt/conda/lib/python3.7/site-packages (from google-auth<3,>=1.6.3->tensorboard<2.12,>=2.11->tensorflow<2.12,>=2.11.0->tensorflow-text->trax==1.3.9) (0.3.0)\n",
      "Requirement already satisfied: requests-oauthlib>=0.7.0 in /opt/conda/lib/python3.7/site-packages (from google-auth-oauthlib<0.5,>=0.4.1->tensorboard<2.12,>=2.11->tensorflow<2.12,>=2.11.0->tensorflow-text->trax==1.3.9) (1.3.1)\n",
      "Requirement already satisfied: MarkupSafe>=2.1.1 in /opt/conda/lib/python3.7/site-packages (from werkzeug>=1.0.1->tensorboard<2.12,>=2.11->tensorflow<2.12,>=2.11.0->tensorflow-text->trax==1.3.9) (2.1.2)\n",
      "Requirement already satisfied: orbax in /opt/conda/lib/python3.7/site-packages (from flax->clu->seqio-nightly->t5->trax==1.3.9) (0.1.0)\n",
      "Requirement already satisfied: tensorstore in /opt/conda/lib/python3.7/site-packages (from flax->clu->seqio-nightly->t5->trax==1.3.9) (0.1.28)\n",
      "Requirement already satisfied: rich>=11.1 in /opt/conda/lib/python3.7/site-packages (from flax->clu->seqio-nightly->t5->trax==1.3.9) (13.3.5)\n",
      "Requirement already satisfied: optax in /opt/conda/lib/python3.7/site-packages (from flax->clu->seqio-nightly->t5->trax==1.3.9) (0.1.4)\n",
      "Requirement already satisfied: msgpack in /opt/conda/lib/python3.7/site-packages (from flax->clu->seqio-nightly->t5->trax==1.3.9) (0.6.1)\n",
      "Requirement already satisfied: contextlib2 in /opt/conda/lib/python3.7/site-packages (from ml-collections->clu->seqio-nightly->t5->trax==1.3.9) (0.6.0.post1)\n",
      "Requirement already satisfied: pyasn1<0.6.0,>=0.4.6 in /opt/conda/lib/python3.7/site-packages (from pyasn1-modules>=0.2.1->google-auth<3,>=1.6.3->tensorboard<2.12,>=2.11->tensorflow<2.12,>=2.11.0->tensorflow-text->trax==1.3.9) (0.4.8)\n",
      "Requirement already satisfied: oauthlib>=3.0.0 in /opt/conda/lib/python3.7/site-packages (from requests-oauthlib>=0.7.0->google-auth-oauthlib<0.5,>=0.4.1->tensorboard<2.12,>=2.11->tensorflow<2.12,>=2.11.0->tensorflow-text->trax==1.3.9) (3.2.2)\n",
      "Requirement already satisfied: markdown-it-py<3.0.0,>=2.2.0 in /opt/conda/lib/python3.7/site-packages (from rich>=11.1->flax->clu->seqio-nightly->t5->trax==1.3.9) (2.2.0)\n",
      "Requirement already satisfied: pygments<3.0.0,>=2.13.0 in /opt/conda/lib/python3.7/site-packages (from rich>=11.1->flax->clu->seqio-nightly->t5->trax==1.3.9) (2.15.0)\n",
      "Requirement already satisfied: chex>=0.1.5 in /opt/conda/lib/python3.7/site-packages (from optax->flax->clu->seqio-nightly->t5->trax==1.3.9) (0.1.5)\n",
      "Requirement already satisfied: cached_property in /opt/conda/lib/python3.7/site-packages (from orbax->flax->clu->seqio-nightly->t5->trax==1.3.9) (1.5.2)\n",
      "Requirement already satisfied: pytest in /opt/conda/lib/python3.7/site-packages (from orbax->flax->clu->seqio-nightly->t5->trax==1.3.9) (5.3.5)\n",
      "Requirement already satisfied: toolz>=0.9.0 in /opt/conda/lib/python3.7/site-packages (from chex>=0.1.5->optax->flax->clu->seqio-nightly->t5->trax==1.3.9) (0.10.0)\n",
      "Requirement already satisfied: mdurl~=0.1 in /opt/conda/lib/python3.7/site-packages (from markdown-it-py<3.0.0,>=2.2.0->rich>=11.1->flax->clu->seqio-nightly->t5->trax==1.3.9) (0.1.2)\n",
      "Requirement already satisfied: py>=1.5.0 in /opt/conda/lib/python3.7/site-packages (from pytest->orbax->flax->clu->seqio-nightly->t5->trax==1.3.9) (1.11.0)\n",
      "Requirement already satisfied: attrs>=17.4.0 in /opt/conda/lib/python3.7/site-packages (from pytest->orbax->flax->clu->seqio-nightly->t5->trax==1.3.9) (22.2.0)\n",
      "Requirement already satisfied: more-itertools>=4.0.0 in /opt/conda/lib/python3.7/site-packages (from pytest->orbax->flax->clu->seqio-nightly->t5->trax==1.3.9) (8.2.0)\n",
      "Requirement already satisfied: pluggy<1.0,>=0.12 in /opt/conda/lib/python3.7/site-packages (from pytest->orbax->flax->clu->seqio-nightly->t5->trax==1.3.9) (0.13.1)\n",
      "Requirement already satisfied: wcwidth in /opt/conda/lib/python3.7/site-packages (from pytest->orbax->flax->clu->seqio-nightly->t5->trax==1.3.9) (0.1.8)\n",
      "\u001b[33mWARNING: Running pip as the 'root' user can result in broken permissions and conflicting behaviour with the system package manager. It is recommended to use a virtual environment instead: https://pip.pypa.io/warnings/venv\u001b[0m\u001b[33m\n",
      "\u001b[0m\n",
      "\u001b[1m[\u001b[0m\u001b[34;49mnotice\u001b[0m\u001b[1;39;49m]\u001b[0m\u001b[39;49m A new release of pip is available: \u001b[0m\u001b[31;49m23.0.1\u001b[0m\u001b[39;49m -> \u001b[0m\u001b[32;49m23.1.2\u001b[0m\n",
      "\u001b[1m[\u001b[0m\u001b[34;49mnotice\u001b[0m\u001b[1;39;49m]\u001b[0m\u001b[39;49m To update, run: \u001b[0m\u001b[32;49mpip install --upgrade pip\u001b[0m\n"
     ]
    }
   ],
   "source": [
    "!pip install trax==1.3.9"
   ]
  },
  {
   "cell_type": "code",
   "execution_count": 27,
   "id": "6ddfdcd6",
   "metadata": {
    "tags": []
   },
   "outputs": [
    {
     "name": "stdout",
     "output_type": "stream",
     "text": [
      "trax                                 1.3.9\n",
      "\n",
      "\u001b[1m[\u001b[0m\u001b[34;49mnotice\u001b[0m\u001b[1;39;49m]\u001b[0m\u001b[39;49m A new release of pip is available: \u001b[0m\u001b[31;49m23.0.1\u001b[0m\u001b[39;49m -> \u001b[0m\u001b[32;49m23.1.2\u001b[0m\n",
      "\u001b[1m[\u001b[0m\u001b[34;49mnotice\u001b[0m\u001b[1;39;49m]\u001b[0m\u001b[39;49m To update, run: \u001b[0m\u001b[32;49mpip install --upgrade pip\u001b[0m\n",
      "numpy                                1.21.6\n",
      "numpydoc                             0.9.2\n",
      "\n",
      "\u001b[1m[\u001b[0m\u001b[34;49mnotice\u001b[0m\u001b[1;39;49m]\u001b[0m\u001b[39;49m A new release of pip is available: \u001b[0m\u001b[31;49m23.0.1\u001b[0m\u001b[39;49m -> \u001b[0m\u001b[32;49m23.1.2\u001b[0m\n",
      "\u001b[1m[\u001b[0m\u001b[34;49mnotice\u001b[0m\u001b[1;39;49m]\u001b[0m\u001b[39;49m To update, run: \u001b[0m\u001b[32;49mpip install --upgrade pip\u001b[0m\n"
     ]
    }
   ],
   "source": [
    "from termcolor import colored\n",
    "import random\n",
    "import numpy as np\n",
    "\n",
    "import trax\n",
    "from trax import layers as tl\n",
    "from trax.fastmath import numpy as fastnp\n",
    "from trax.supervised import training\n",
    "\n",
    "import w1_unittest\n",
    "\n",
    "!pip list | grep trax\n",
    "!pip list | grep numpy"
   ]
  },
  {
   "cell_type": "markdown",
   "id": "a5324c69",
   "metadata": {},
   "source": [
    "Next, we will import the dataset we will use to train the model. <font color=\"yellow\">To meet the storage constraints in this lab environment, we will just use a small dataset from [Opus](http://opus.nlpl.eu/), a growing collection of translated texts from the web. Particularly, we will get an English to German translation subset specified as `opus/medical` which has medical related texts. If storage is not an issue, you can opt to get a larger corpus such as the English to German translation dataset from [ParaCrawl](https://paracrawl.eu/), a large multi-lingual translation dataset created by the European Union. Both of these datasets are available via [Tensorflow Datasets (TFDS)](https://www.tensorflow.org/datasets)\n",
    "and you can browse through the other available datasets [here](https://www.tensorflow.org/datasets/catalog/overview)</font>. We have downloaded the data for you in the `data/` directory of your workspace. As you'll see below, you can easily access this dataset from TFDS with `trax.data.TFDS`. The result is a python generator function yielding tuples. Use the `keys` argument to select what appears at which position in the tuple. For example, `keys=('en', 'de')` below will return pairs as (English sentence, German sentence).  "
   ]
  },
  {
   "cell_type": "code",
   "execution_count": 28,
   "id": "eaa64ad9",
   "metadata": {
    "tags": []
   },
   "outputs": [
    {
     "name": "stderr",
     "output_type": "stream",
     "text": [
      "/opt/conda/lib/python3.7/site-packages/jax/_src/lib/xla_bridge.py:554: UserWarning: jax.host_count has been renamed to jax.process_count. This alias will eventually be removed; please update your code.\n",
      "  \"jax.host_count has been renamed to jax.process_count. This alias \"\n"
     ]
    }
   ],
   "source": [
    "# Get generator function for the training set\n",
    "# This will download the train dataset if no data_dir is specified.\n",
    "train_stream_fn = trax.data.TFDS('opus/medical',\n",
    "                                 data_dir='./data/',\n",
    "                                 keys=('en', 'de'),\n",
    "                                 eval_holdout_size=0.01, # 1% for eval\n",
    "                                 train=True\n",
    "                                )\n",
    "\n",
    "# Get generator function for the eval set\n",
    "eval_stream_fn = trax.data.TFDS('opus/medical',\n",
    "                                data_dir='./data/',\n",
    "                                keys=('en', 'de'),\n",
    "                                eval_holdout_size=0.01, # 1% for eval                                \n",
    "                                train=False\n",
    "                               )\n",
    "\n",
    "train_stream = train_stream_fn()\n",
    "eval_stream = eval_stream_fn()"
   ]
  },
  {
   "cell_type": "markdown",
   "id": "8623578d",
   "metadata": {},
   "source": [
    "<font color=\"yellow\">Notice that TFDS returns a generator *function*, not a generator</font>. This is because in Python, you cannot reset generators so you cannot go back to a previously yielded value. During deep learning training, you use Stochastic Gradient Descent and don't actually need to go back -- but it is sometimes good to be able to do that, and that's where the functions come in. It is actually very common to use generator functions in Python -- e.g., `zip` is a generator function. You can read more about [Python generators](https://book.pythontips.com/en/latest/generators.html) to understand why we use them. Let's print a a sample pair from our train and eval data. Notice that the raw ouput is represented in bytes (denoted by the `b'` prefix) and these will be converted to strings internally in the next steps."
   ]
  },
  {
   "cell_type": "code",
   "execution_count": 29,
   "id": "b9ad5cfe",
   "metadata": {
    "tags": []
   },
   "outputs": [
    {
     "name": "stdout",
     "output_type": "stream",
     "text": [
      "train data (en, de) tuple: (b'Tel: +421 2 57 103 777\\n', b'Tel: +421 2 57 103 777\\n')\n",
      "evaluation data (en, de) tuple: (b'Subcutaneous use and intravenous use.\\n', b'Subkutane Anwendung und intraven\\xc3\\xb6se Anwendung.\\n')\n"
     ]
    }
   ],
   "source": [
    "#\n",
    "# Execute this block multiple times to sample different senetences from the training and evaluation data sets\n",
    "#\n",
    "print(colored('train data (en, de) tuple:', 'red'), next(train_stream))\n",
    "print(colored('evaluation data (en, de) tuple:', 'yellow'), next(eval_stream))"
   ]
  },
  {
   "cell_type": "markdown",
   "id": "8e21475f",
   "metadata": {},
   "source": [
    "<a name=\"1.2\"></a>\n",
    "## 1.2  Tokenization and Formatting\n",
    "\n",
    "Now that we have imported our corpus, we will be preprocessing the sentences into a format that our model can accept. This will be composed of several steps:\n",
    "\n",
    "**Tokenizing the sentences using subword representations:** As you've learned in the earlier courses of this specialization, we want to represent each sentence as an array of integers instead of strings. <font color=\"yellow\">For our application, we will use *subword* representations to tokenize our sentences. This is a common technique to avoid out-of-vocabulary words by allowing parts of words to be represented separately.</font> For example, instead of having separate entries in your vocabulary for --\"fear\", \"fearless\", \"fearsome\", \"some\", and \"less\"--, you can simply store --\"fear\", \"some\", and \"less\"-- then allow your tokenizer to combine these subwords when needed. This allows it to be more flexible so you won't have to save uncommon words explicitly in your vocabulary (e.g. *stylebender*, *nonce*, etc). Tokenizing is done with the `trax.data.Tokenize()` command and we have provided you the combined subword vocabulary for English and German (i.e. `ende_32k.subword`) saved in the `data` directory. Feel free to open this file to see how the subwords look like."
   ]
  },
  {
   "cell_type": "code",
   "execution_count": 30,
   "id": "0448ea7b",
   "metadata": {
    "tags": []
   },
   "outputs": [],
   "source": [
    "# global variables that state the filename and directory of the vocabulary file\n",
    "VOCAB_FILE = 'ende_32k.subword'\n",
    "VOCAB_DIR = 'data/'\n",
    "\n",
    "# Tokenize the dataset.\n",
    "tokenized_train_stream = trax.data.Tokenize(vocab_file=VOCAB_FILE, vocab_dir=VOCAB_DIR)(train_stream)\n",
    "tokenized_eval_stream  = trax.data.Tokenize(vocab_file=VOCAB_FILE, vocab_dir=VOCAB_DIR)(eval_stream)"
   ]
  },
  {
   "cell_type": "markdown",
   "id": "972c931a",
   "metadata": {},
   "source": [
    "**Append an end-of-sentence token to each sentence:** <font color=\"yellow\">We will assign a token (i.e. in this case `1`) to mark the end of a sentence.</font> This will be useful in inference/prediction so we'll know that the model has completed the translation."
   ]
  },
  {
   "cell_type": "code",
   "execution_count": 31,
   "id": "ab218c86",
   "metadata": {
    "tags": []
   },
   "outputs": [],
   "source": [
    "#\n",
    "# Append EOS at the end of each sentence.\n",
    "# Integer assigned as end-of-sentence (EOS)\n",
    "#\n",
    "EOS = 1\n",
    "\n",
    "#\n",
    "# generator helper function to append EOS to each sentence\n",
    "#\n",
    "def append_eos(stream):\n",
    "    for (inputs, targets) in stream:\n",
    "        inputs_with_eos = list(inputs) + [EOS]\n",
    "        targets_with_eos = list(targets) + [EOS]\n",
    "        yield np.array(inputs_with_eos), np.array(targets_with_eos)\n",
    "\n",
    "#\n",
    "# append EOS to the train and eval data\n",
    "#\n",
    "tokenized_train_stream = append_eos(tokenized_train_stream)\n",
    "tokenized_eval_stream = append_eos(tokenized_eval_stream)"
   ]
  },
  {
   "cell_type": "markdown",
   "id": "fa0d3484",
   "metadata": {},
   "source": [
    "\n",
    "**Filter long sentences:** <font color=\"yellow\">We will place a limit on the number of tokens per sentence to ensure we won't run out of memory.</font> This is done with the `trax.data.FilterByLength()` method and you can see its syntax below."
   ]
  },
  {
   "cell_type": "code",
   "execution_count": 32,
   "id": "9b183f1a",
   "metadata": {
    "tags": []
   },
   "outputs": [
    {
     "name": "stdout",
     "output_type": "stream",
     "text": [
      "Single tokenized example input: [ 2538  2248    30 12114 23184 16889     5     2 20852  6456 20592  5812\n",
      "  3932    96  5178  3851    30  7891  3550 30650  4729   992     1]\n",
      "Single tokenized example target: [ 1872    11  3544    39  7019 17877 30432    23  6845    10 14222    47\n",
      "  4004    18 21674     5 27467  9513   920   188 10630    18  3550 30650\n",
      "  4729   992     1]\n"
     ]
    }
   ],
   "source": [
    "#\n",
    "# Filter out sentences that are too long so that we don't run the risk of running of out of memory.\n",
    "# length_keys=[0, 1] means we filter both English and German sentences.\n",
    "# Thus, both input and target sequence both must be not longer than 512 tokens for training / 512 for eval.\n",
    "#\n",
    "filtered_train_stream = trax.data.FilterByLength(max_length=512, length_keys=[0, 1])(tokenized_train_stream)\n",
    "filtered_eval_stream  = trax.data.FilterByLength(max_length=512, length_keys=[0, 1])(tokenized_eval_stream)\n",
    "\n",
    "#\n",
    "# print a sample input-target pair of tokenized sentences\n",
    "#\n",
    "train_input, train_target = next(filtered_train_stream)\n",
    "print(colored(f'Single tokenized example input:', 'red' ), train_input)\n",
    "print(colored(f'Single tokenized example target:', 'yellow'), train_target)"
   ]
  },
  {
   "cell_type": "markdown",
   "id": "2306a830",
   "metadata": {},
   "source": [
    "<a name=\"1.3\"></a>\n",
    "## 1.3  tokenize & detokenize helper functions\n",
    "\n",
    "Given any data set, you have to be able to map words to their indices, and indices to their words. The inputs and outputs to your trax models are usually tensors of numbers where each number corresponds to a word. If you were to process your data manually, you would have to make use of the following: \n",
    "\n",
    "- <span style='color:yellow'> word2Ind: </span> a dictionary mapping the word to its index.\n",
    "- <span style='color:yellow'> ind2Word:</span> a dictionary mapping the index to its word.\n",
    "- <span style='color:yellow'> word2Count:</span> a dictionary mapping the word to the number of times it appears. \n",
    "- <span style='color:yellow'> num_words:</span> total number of words that have appeared. "
   ]
  },
  {
   "cell_type": "code",
   "execution_count": 33,
   "id": "e23e6f84-516f-4f75-ae36-b02c7174892d",
   "metadata": {
    "tags": []
   },
   "outputs": [],
   "source": [
    "#\n",
    "# Helper function that converts a text sentence to its corresponding token list\n",
    "#\n",
    "def tokenize(input_str, vocab_file=None, vocab_dir=None):\n",
    "    \"\"\"Encodes a string to an array of integers\n",
    "\n",
    "    Args:\n",
    "        input_str (str): human-readable string to encode\n",
    "        vocab_file (str): filename of the vocabulary text file\n",
    "        vocab_dir (str): path to the vocabulary file\n",
    "  \n",
    "    Returns:\n",
    "        numpy.ndarray: tokenized version of the input string\n",
    "    \"\"\"\n",
    "    \n",
    "    # Set the encoding of the \"end of sentence\" as 1\n",
    "    EOS = 1\n",
    "    \n",
    "    # Use the trax.data.tokenize method. \n",
    "    # This method takes streams and returns streams,\n",
    "    # So, in order to work with a single sentence from the stream, we call 'iter' on the stream to make it a 1-element stream\n",
    "    inputs =  next(trax.data.tokenize(iter([input_str]), vocab_file=vocab_file, vocab_dir=vocab_dir))\n",
    "    \n",
    "    # Mark the end of the sentence with EOS\n",
    "    inputs = list(inputs) + [EOS]\n",
    "    \n",
    "    #\n",
    "    # Adding the batch dimension to the front of the shape\n",
    "    # Here's how reshaping works:\n",
    "    # a = np.arange(6) -> This will give a one-dimensional array if shape (6,)\n",
    "    # c = np.reshape(a, [1, -1]) -> This will give a two-dimensional array of shape (1,6)\n",
    "    #\n",
    "    batch_inputs = np.reshape(np.array(inputs), [1, -1])\n",
    "    return batch_inputs\n",
    "\n",
    "\n",
    "#\n",
    "# Helper function that converts a token list to its corresponding sentence\n",
    "#\n",
    "def detokenize(integers, vocab_file=None, vocab_dir=None):\n",
    "    \"\"\"Decodes an array of integers to a human readable string\n",
    "\n",
    "    Args:\n",
    "        integers (numpy.ndarray): array of integers to decode\n",
    "        vocab_file (str): filename of the vocabulary text file\n",
    "        vocab_dir (str): path to the vocabulary file\n",
    "  \n",
    "    Returns:\n",
    "        str: the decoded sentence.\n",
    "    \"\"\"\n",
    "    \n",
    "    # Remove the dimensions of size 1\n",
    "    integers = list(np.squeeze(integers))\n",
    "    \n",
    "    # Set the encoding of the \"end of sentence\" as 1\n",
    "    EOS = 1\n",
    "    \n",
    "    # Remove the EOS to decode only the original tokens\n",
    "    if EOS in integers:\n",
    "        integers = integers[:integers.index(EOS)] \n",
    "    \n",
    "    tokens = trax.data.detokenize(integers, vocab_file=vocab_file, vocab_dir=vocab_dir)\n",
    "    return tokens"
   ]
  },
  {
   "cell_type": "markdown",
   "id": "6adcefbe",
   "metadata": {},
   "source": [
    "Let's see how we might use these functions:"
   ]
  },
  {
   "cell_type": "code",
   "execution_count": 34,
   "id": "e10bdec7",
   "metadata": {
    "tags": []
   },
   "outputs": [
    {
     "name": "stdout",
     "output_type": "stream",
     "text": [
      "Single detokenized example input: Sverige BRISTOL-MYERS SQUIBB AB Tel: + 46 8 704 71 00\n",
      "\n",
      "Single detokenized example target: Sverige BRISTOL-MYERS SQUIBB AB Tel: + 46 8 704 71 00\n",
      "\n",
      "\n",
      "tokenize('hello'):  [[17332   140     1]]\n",
      "detokenize([17332, 140, 1]):  hello\n"
     ]
    }
   ],
   "source": [
    "# Note that the variables have been declared before:\n",
    "# VOCAB_FILE = 'ende_32k.subword'\n",
    "# VOCAB_DIR = 'data/'\n",
    "\n",
    "#\n",
    "# We already have the streams that represent the tokenized senetences for training and evaluation\n",
    "# These streams only contain senetences that are not longet than 512 tokens\n",
    "# Get a (input, target) pait of tokenized senetences from the training stream and detokenize them\n",
    "#\n",
    "train_input, train_target = next(filtered_train_stream)\n",
    "\n",
    "#\n",
    "# Detokenize with the helper function above\n",
    "#\n",
    "print(colored(f'Single detokenized example input:', 'yellow'),  detokenize(train_input,  vocab_file=VOCAB_FILE, vocab_dir=VOCAB_DIR))\n",
    "print(colored(f'Single detokenized example target:', 'yellow'), detokenize(train_target, vocab_file=VOCAB_FILE, vocab_dir=VOCAB_DIR))\n",
    "print()\n",
    "\n",
    "#\n",
    "# Tokenize and detokenize a word that is not explicitly saved in the vocabulary file.\n",
    "# We pick the work \"hello\" which is tokenized into subword representations as 'hell', and 'o' plus the EOS token \n",
    "#\n",
    "print(colored(f\"tokenize('hello'): \", 'red'), tokenize('hello', vocab_file=VOCAB_FILE, vocab_dir=VOCAB_DIR))\n",
    "print(colored(f\"detokenize([17332, 140, 1]): \", 'red'), detokenize([17332, 140, 1], vocab_file=VOCAB_FILE, vocab_dir=VOCAB_DIR))"
   ]
  },
  {
   "cell_type": "markdown",
   "id": "c98fca79",
   "metadata": {},
   "source": [
    "<a name=\"1.4\"></a>\n",
    "## 1.4  Bucketing\n",
    "\n",
    "<font color=\"yellow\">Bucketing the tokenized sentences is an important technique used to speed up training in NLP.</font>\n",
    "Here is a \n",
    "[nice article describing it in detail](https://medium.com/@rashmi.margani/how-to-speed-up-the-training-of-the-sequence-model-using-bucketing-techniques-9e302b0fd976)\n",
    "but the gist is very simple. Our inputs have variable lengths and you want to make these the same when batching groups of sentences together. One way to do that is to pad each sentence to the length of the longest sentence in the dataset. This might lead to some wasted computation though. For example, if there are multiple short sentences with just two tokens, do we want to pad these when the longest sentence is composed of a 100 tokens? <font color=\"yellow\">Instead of padding with 0s to the maximum length of a sentence each time, we can group our tokenized sentences by length and bucket</font>, as on the image  below (from the article above):\n",
    "\n",
    "We batch the sentences with similar length together (e.g. the blue sentences in the image above) and only add minimal padding to make them have equal length (usually up to the nearest power of two). This allows to waste less computation when processing padded sequences.\n",
    "In Trax, it is implemented in the [bucket_by_length](https://github.com/google/trax/blob/5fb8aa8c5cb86dabb2338938c745996d5d87d996/trax/supervised/inputs.py#L378) function.\n",
    "\n",
    "![alt text](https://miro.medium.com/max/700/1*hcGuja_d5Z_rFcgwe9dPow.png)"
   ]
  },
  {
   "cell_type": "code",
   "execution_count": 35,
   "id": "d0b48c1d",
   "metadata": {
    "tags": []
   },
   "outputs": [],
   "source": [
    "#\n",
    "# Bucketing to create streams of batches.\n",
    "# Buckets are defined in terms of boundaries and batch sizes.\n",
    "# Batch_sizes[i] determines the batch size for items with length < boundaries[i]\n",
    "# So below, we'll take a batch of 256 sentences of length < 8, 128 if length is between 8 and 16, and so on -- and only 2 if length is over 512.\n",
    "#\n",
    "boundaries =  [8,   16,  32, 64, 128, 256, 512]\n",
    "batch_sizes = [256, 128, 64, 32, 16,    8,   4,  2]\n",
    "\n",
    "#\n",
    "# Create the generators for training and evaluation data\n",
    "#\n",
    "train_batch_stream = trax.data.BucketByLength(boundaries, batch_sizes, length_keys=[0, 1])(filtered_train_stream)\n",
    "eval_batch_stream  = trax.data.BucketByLength(boundaries, batch_sizes, length_keys=[0, 1])(filtered_eval_stream)\n",
    "\n",
    "# Add masking for the padding (0s).\n",
    "train_batch_stream = trax.data.AddLossWeights(id_to_mask=0)(train_batch_stream)\n",
    "eval_batch_stream  = trax.data.AddLossWeights(id_to_mask=0)(eval_batch_stream)"
   ]
  },
  {
   "cell_type": "markdown",
   "id": "53998ae9",
   "metadata": {},
   "source": [
    "<a name=\"1.5\"></a>\n",
    "## 1.5  Exploring the data\n",
    "\n",
    "We will now be displaying some of our data. You will see that the functions defined above (i.e. `tokenize()` and `detokenize()`) do the same things you have been doing again and again throughout the specialization. We gave these so you can focus more on building the model from scratch. Let us first get the data generator and get one batch of the data."
   ]
  },
  {
   "cell_type": "code",
   "execution_count": 36,
   "id": "0d32feda",
   "metadata": {
    "tags": []
   },
   "outputs": [
    {
     "name": "stdout",
     "output_type": "stream",
     "text": [
      "input_batch data type:   <class 'numpy.ndarray'>\n",
      "target_batch data type:  <class 'numpy.ndarray'>\n",
      "input_batch shape:   (32, 64)\n",
      "target_batch shape:  (32, 64)\n"
     ]
    }
   ],
   "source": [
    "input_batch, target_batch, mask_batch = next(train_batch_stream)\n",
    "\n",
    "# let's see the data type of a batch\n",
    "print(\"input_batch data type:  \", type(input_batch))\n",
    "print(\"target_batch data type: \", type(target_batch))\n",
    "\n",
    "# let's see the shape of this particular batch (batch length, sentence length)\n",
    "print(\"input_batch shape:  \", input_batch.shape)\n",
    "print(\"target_batch shape: \", target_batch.shape)"
   ]
  },
  {
   "cell_type": "markdown",
   "id": "133d0c62",
   "metadata": {},
   "source": [
    "The `input_batch` and `target_batch` are Numpy arrays consisting of tokenized English sentences and German sentences respectively. These tokens will later be used to produce embedding vectors for each word in the sentence (so the embedding for a sentence will be a matrix). The number of sentences in each batch is usually a power of 2 for optimal computer memory usage. \n",
    "\n",
    "We can now visually inspect some of the data. You can run the cell below several times to shuffle through the sentences. Just to note, while this is a standard data set that is used widely, it does have some known wrong translations. With that, let's pick a random sentence and print its tokenized representation."
   ]
  },
  {
   "cell_type": "code",
   "execution_count": 37,
   "id": "cad75e52",
   "metadata": {
    "tags": []
   },
   "outputs": [
    {
     "name": "stdout",
     "output_type": "stream",
     "text": [
      "ENGLISH SENTENCE: \n",
      " A number of medicinal products influence glucose metabolism and possible interactions should therefore be taken into account by the physician:\n",
      "\n",
      "ENGLISH SENTENCE (TOKENIZED): \n",
      "  [  176   399     7 23324 28796     5   970  2406 23816 20532    35 17066\n",
      " 24565  3794     8   377 28723    14   117   443    32   674   190   912\n",
      "    45     4 23037     5  8068 30650  4729   992     1     0     0     0\n",
      "     0     0     0     0     0     0     0     0     0     0     0     0\n",
      "     0     0     0     0     0     0     0     0     0     0     0     0\n",
      "     0     0     0     0]\n",
      "GERMAN TRANSLATION: \n",
      " Deshalb müssen mögliche Wechselwirkungen vom Arzt in Erwägung gezogen werden:\n",
      "\n",
      "GERMAN TRANSLATION (TOKENIZED): \n",
      " [ 1563   193  6443 24970 18966   267 32806     6 25978     5  4824    58\n",
      "  8068 30650  4729   992     1     0     0     0     0     0     0     0\n",
      "     0     0     0     0     0     0     0     0     0     0     0     0\n",
      "     0     0     0     0     0     0     0     0     0     0     0     0\n",
      "     0     0     0     0     0     0     0     0     0     0     0     0\n",
      "     0     0     0     0]\n"
     ]
    }
   ],
   "source": [
    "# pick a random index less than the batch size.\n",
    "index = random.randrange(len(input_batch))\n",
    "\n",
    "# use the index to grab an entry from the input and target batch\n",
    "print(colored('ENGLISH SENTENCE: \\n', 'red'), detokenize(input_batch[index], vocab_file=VOCAB_FILE, vocab_dir=VOCAB_DIR))\n",
    "print(colored('ENGLISH SENTENCE (TOKENIZED): \\n ', 'yellow'), input_batch[index])\n",
    "print(colored('GERMAN TRANSLATION: \\n', 'red'), detokenize(target_batch[index], vocab_file=VOCAB_FILE, vocab_dir=VOCAB_DIR))\n",
    "print(colored('GERMAN TRANSLATION (TOKENIZED): \\n', 'yellow'), target_batch[index])"
   ]
  },
  {
   "cell_type": "markdown",
   "id": "451ce703",
   "metadata": {},
   "source": [
    "<a name=\"2\"></a>\n",
    "# Part 2:  Neural Machine Translation with Attention\n",
    "\n",
    "Now that you have the data generators and have handled the preprocessing, it is time for you to build the model. You will be implementing a neural machine translation model from scratch with attention.\n"
   ]
  },
  {
   "cell_type": "markdown",
   "id": "879d6cdc",
   "metadata": {},
   "source": [
    "<a name=\"2.1\"></a>\n",
    "## 2.1  Attention Overview\n",
    "\n",
    "The model we will be building uses an encoder-decoder architecture. This Recurrent Neural Network (RNN) will take in a tokenized version of a sentence in its encoder, then passes it on to the decoder for translation. As mentioned in the lectures, <font color=\"yellow\">just using a a regular sequence-to-sequence model with LSTMs will work effectively for short to medium sentences but will start to degrade for longer ones.</font> You can picture it like the figure below where all of the context of the input sentence is compressed into one vector that is passed into the decoder block. You can see how this will be an issue for very long sentences (e.g. 100 tokens or more) because the context of the first parts of the input will have very little effect on the final vector passed to the decoder.\n",
    "\n",
    "<img src='images/plain_rnn.png' width=\"50%\">\n",
    "\n",
    "<font color=\"yellow\">Adding an attention layer to this model avoids this problem by giving the decoder access to all parts of the input sentence. Remember that a hidden state is produced at each timestep of the encoder (represented by the orange rectangles). These are all passed to the attention layer and each are given a score given the current activation (i.e. hidden state) of the decoder.</font> To illustrate, let's just use a 4-word input sentence as shown below. For instance, let's consider the figure below where the first prediction \"Wie\" is already made. To produce the next prediction, the attention layer will first receive all the encoder hidden states (i.e. orange rectangles) as well as the decoder hidden state when producing the word \"Wie\" (i.e. first green rectangle). Given this information, it will score each of the encoder hidden states to know which one the decoder should focus on to produce the next word. As a result of training, the model might have learned that it should align to the second encoder hidden state and subsequently assigns a high probability to the word \"geht\". If we are using greedy decoding, we will output the said word as the next symbol, then restart the process to produce the next word until we reach an end-of-sentence prediction.\n",
    "\n",
    "<img src='images/attention_overview.png' width=\"50%\">\n",
    "\n",
    "\n",
    "There are different ways to implement attention and the one we'll use for this assignment is the Scaled Dot Product Attention which has the form:\n",
    "\n",
    "<font color=\"yellow\">\n",
    "$$Attention(Q, K, V) = softmax(\\frac{QK^T}{\\sqrt{d_k}})V$$\n",
    "</font>\n",
    "\n",
    "You will dive deeper into this equation in the next week but for now, you can think of it as computing scores using queries (Q) and keys (K), followed by a multiplication of values (V) to get a context vector at a particular timestep of the decoder. This context vector is fed to the decoder RNN to get a set of probabilities for the next predicted word. The division by square root of the keys dimensionality ($\\sqrt{d_k}$) is for improving model performance and you'll also learn more about it next week. For our machine translation application, the encoder activations (i.e. encoder hidden states) will be the keys and values, while the decoder activations (i.e. decoder hidden states) will be the queries."
   ]
  },
  {
   "cell_type": "markdown",
   "id": "bf1a5b1a",
   "metadata": {},
   "source": [
    "<a name=\"2.2\"></a>\n",
    "## 2.2  Helper functions\n",
    "\n",
    "We will first implement a few functions that we will use later on. These will be for the input encoder, pre-attention decoder, and preparation of the queries, keys, values, and mask.\n",
    "\n",
    "### 2.2.1 Input encoder\n",
    "\n",
    "<font color=\"yellow\">The input encoder runs on the input tokens, creates its embeddings, and feeds it to an LSTM network. This outputs the activations that will be the keys and values for attention.</font> It is a [Serial](https://trax-ml.readthedocs.io/en/latest/trax.layers.html#trax.layers.combinators.Serial) network which uses:\n",
    "\n",
    "   - [tl.Embedding](https://trax-ml.readthedocs.io/en/latest/trax.layers.html#trax.layers.core.Embedding): Converts each token to its vector representation. In this case, it is the the size of the vocabulary by the dimension of the model: `tl.Embedding(vocab_size, d_model)`. `vocab_size` is the number of entries in the given vocabulary. \n",
    "<font color=\"yellow\">d_model is the number of elements in the word embedding.</font>\n",
    "  \n",
    "   - [tl.LSTM](https://trax-ml.readthedocs.io/en/latest/trax.layers.html#trax.layers.rnn.LSTM): LSTM layer of size `d_model`. We want to be able to configure how many encoder layers we have so remember to create LSTM layers equal to the number of the `n_encoder_layers` parameter.\n",
    "   \n",
    "<img src = \"images/input_encoder.png\">"
   ]
  },
  {
   "cell_type": "code",
   "execution_count": 38,
   "id": "74d0ceca",
   "metadata": {
    "tags": []
   },
   "outputs": [],
   "source": [
    "def input_encoder_fn(input_vocab_size, d_model, n_encoder_layers):\n",
    "    \"\"\" Input encoder runs on the input sentence and creates\n",
    "    activations that will be the keys and values for attention.\n",
    "    \n",
    "    Args:\n",
    "        input_vocab_size: int: vocab size of the input\n",
    "        d_model: int:  depth of embedding (n_units in the LSTM cell)\n",
    "        n_encoder_layers: int: number of LSTM layers in the encoder\n",
    "    Returns:\n",
    "        tl.Serial: The input encoder\n",
    "    \"\"\"\n",
    "    \n",
    "    # create a serial network\n",
    "    input_encoder = tl.Serial( \n",
    "        \n",
    "        # create an embedding layer to convert tokens to vectors\n",
    "        tl.Embedding(input_vocab_size, d_model),\n",
    "        \n",
    "        # feed the embeddings to the LSTM layers. It is a stack of n_encoder_layers LSTM layers\n",
    "        [tl.LSTM(d_model) for _ in range(n_encoder_layers)]\n",
    "    )\n",
    "\n",
    "    return input_encoder"
   ]
  },
  {
   "cell_type": "markdown",
   "id": "f117e387",
   "metadata": {},
   "source": [
    "### 2.2.2 Pre-attention decoder\n",
    "\n",
    "<font color=\"yellow\">The pre-attention decoder runs on the targets and creates activations that are used as queries in attention.</font> This is a Serial network which is composed of the following:\n",
    "\n",
    "   - [tl.ShiftRight](https://trax-ml.readthedocs.io/en/latest/trax.layers.html#trax.layers.attention.ShiftRight): This pads a token to the beginning of your target tokens (e.g. `[8, 34, 12]` shifted right is `[0, 8, 34, 12]`). This will act like a start-of-sentence token that will be the first input to the decoder. During training, this shift also allows the target tokens to be passed as input to do teacher forcing.\n",
    "\n",
    "   - [tl.Embedding](https://trax-ml.readthedocs.io/en/latest/trax.layers.html#trax.layers.core.Embedding): Like in the previous function, this converts each token to its vector representation. In this case, it is the the size of the vocabulary by the dimension of the model: `tl.Embedding(vocab_size, d_model)`. `vocab_size` is the number of entries in the given vocabulary. `d_model` is the number of elements in the word embedding.\n",
    "   \n",
    "   - [tl.LSTM](https://trax-ml.readthedocs.io/en/latest/trax.layers.html#trax.layers.rnn.LSTM): LSTM layer of size `d_model`.\n",
    "\n",
    "<img src = \"images/pre_attention_decoder.png\">\n"
   ]
  },
  {
   "cell_type": "code",
   "execution_count": 39,
   "id": "d36ce4b4",
   "metadata": {
    "tags": []
   },
   "outputs": [],
   "source": [
    "def pre_attention_decoder_fn(mode, target_vocab_size, d_model):\n",
    "    \"\"\" Pre-attention decoder runs on the targets and creates\n",
    "    activations that are used as queries in attention.\n",
    "    \n",
    "    Args:\n",
    "        mode: str: 'train' or 'eval'\n",
    "        target_vocab_size: int: vocab size of the target\n",
    "        d_model: int:  depth of embedding (n_units in the LSTM cell)\n",
    "    Returns:\n",
    "        tl.Serial: The pre-attention decoder\n",
    "    \"\"\"\n",
    "    \n",
    "    # create a serial network\n",
    "    pre_attention_decoder = tl.Serial(\n",
    "        \n",
    "        # shift right to insert start-of-sentence token and implement\n",
    "        # teacher forcing during training\n",
    "        tl.ShiftRight(),\n",
    "\n",
    "        # run an embedding layer to convert tokens to vectors\n",
    "        tl.Embedding(target_vocab_size, d_model),\n",
    "\n",
    "        # feed to an LSTM layer\n",
    "        tl.LSTM(d_model)\n",
    "    )\n",
    "    \n",
    "    return pre_attention_decoder"
   ]
  },
  {
   "cell_type": "markdown",
   "id": "4318e485",
   "metadata": {},
   "source": [
    "### 2.2.3 Preparing the attention input\n",
    "\n",
    "This function will prepare the inputs to the attention layer. <font color=\"yellow\">We want to take in the encoder and pre-attention decoder activations and assign it to the queries, keys, and values. Note that in this NMT model which is based on Bahdanau and Bengio, we are trying to create a context vector that feeds into the decoder LSTM based on the activations from LSTM that is fed the input tokens. Therefore, the activations from the encoder LSTM represent keys and values. The hidden state from the decoder LSTM represents the query</font> In addition, another output here will be the mask to distinguish real tokens from padding tokens. This mask will be used internally by Trax when computing the softmax so padding tokens will not have an effect on the computated probabilities. From the data preparation steps in Section 1 of this assignment, you should know which tokens in the input correspond to padding.\n",
    "\n",
    "We have filled the last two lines in composing the mask for you because it includes a concept that will be discussed further next week. This is related to *multiheaded attention* which you can think of right now as computing the attention multiple times to improve the model's predictions. It is required to consider this additional axis in the output so we've included it already but you don't need to analyze it just yet. What's important now is for you to know which should be the queries, keys, and values, as well as to initialize the mask.\n",
    "\n",
    "<img src = \"images/nmt-1.png\" width=\"50%\">\n",
    "<img src = \"images/nmt-2.png\" width=\"50%\">\n",
    "<img src = \"images/nmt-3.png\" width=\"50%\">"
   ]
  },
  {
   "cell_type": "code",
   "execution_count": 40,
   "id": "a6979866",
   "metadata": {
    "tags": []
   },
   "outputs": [],
   "source": [
    "# UNQ_C3\n",
    "# GRADED FUNCTION\n",
    "def prepare_attention_input(encoder_activations, decoder_activations, inputs):\n",
    "    \"\"\"Prepare queries, keys, values and mask for attention.\n",
    "    \n",
    "    Args:\n",
    "        encoder_activations fastnp.array(batch_size, padded_input_length, d_model): output from the input encoder\n",
    "        decoder_activations fastnp.array(batch_size, padded_input_length, d_model): output from the pre-attention decoder\n",
    "        inputs fastnp.array(batch_size, padded_input_length): input tokens\n",
    "    \n",
    "    Returns:\n",
    "        queries, keys, values and mask for attention.\n",
    "    \"\"\"\n",
    "    \n",
    "    # set the keys and values to the encoder activations\n",
    "    keys   = encoder_activations\n",
    "    values = encoder_activations\n",
    "\n",
    "    \n",
    "    # set the queries to the decoder activations\n",
    "    queries = decoder_activations\n",
    "    \n",
    "    # generate the mask to distinguish real tokens from padding\n",
    "    # hint: inputs is positive for real tokens and 0 where they are padding\n",
    "    mask = inputs > 0\n",
    "    \n",
    "    # add axes to the mask for attention heads and decoder length.\n",
    "    mask = fastnp.reshape(mask, (mask.shape[0], 1, 1, mask.shape[1]))\n",
    "    \n",
    "    # This is needed for multi-head attention \n",
    "    # broadcast so mask shape is [batch size, attention heads, decoder-len, encoder-len].\n",
    "    # note: for this assignment, attention heads is set to 1.\n",
    "    mask = mask + fastnp.zeros((1, 1, decoder_activations.shape[1], 1))\n",
    "        \n",
    "    \n",
    "    return queries, keys, values, mask"
   ]
  },
  {
   "cell_type": "markdown",
   "id": "8b8382d5",
   "metadata": {},
   "source": [
    "<a name=\"2.3\"></a>\n",
    "## 2.3  Implementation Overview\n",
    "\n",
    "We are now ready to implement our sequence-to-sequence model with attention. This will be a Serial network and is illustrated in the diagram below. It shows the layers you'll be using in Trax and you'll see that each step can be implemented quite easily with one line commands. We've placed several links to the documentation for each relevant layer in the discussion after the figure below.\n",
    "\n",
    "<img src = \"images/NMTModel.png\">"
   ]
  },
  {
   "cell_type": "markdown",
   "id": "3c1b795d",
   "metadata": {},
   "source": [
    "<a name=\"ex04\"></a>\n",
    "### Exercise 04\n",
    "**Instructions:** Implement the `NMTAttn` function below to define your machine translation model which uses attention. We have left hyperlinks below pointing to the Trax documentation of the relevant layers. Remember to consult it to get tips on what parameters to pass.\n",
    "\n",
    "**Step 0:** Prepare the input encoder and pre-attention decoder branches. You have already defined this earlier as helper functions so it's just a matter of calling those functions and assigning it to variables.\n",
    "\n",
    "**Step 1:** Create a Serial network. This will stack the layers in the next steps one after the other. Like the earlier exercises, you can use [tl.Serial](https://trax-ml.readthedocs.io/en/latest/trax.layers.html#trax.layers.combinators.Serial).\n",
    "\n",
    "**Step 2:** Make a copy of the input and target tokens. As you see in the diagram above, the input and target tokens will be fed into different layers of the model. You can use [tl.Select](https://trax-ml.readthedocs.io/en/latest/trax.layers.html#trax.layers.combinators.Select) layer to create copies of these tokens. Arrange them as `[input tokens, target tokens, input tokens, target tokens]`.\n",
    "\n",
    "**Step 3:** Create a parallel branch to feed the input tokens to the `input_encoder` and the target tokens to the `pre_attention_decoder`. You can use [tl.Parallel](https://trax-ml.readthedocs.io/en/latest/trax.layers.html#trax.layers.combinators.Parallel) to create these sublayers in parallel. Remember to pass the variables you defined in Step 0 as parameters to this layer.\n",
    "\n",
    "**Step 4:** Next, call the `prepare_attention_input` function to convert the encoder and pre-attention decoder activations to a format that the attention layer will accept. You can use [tl.Fn](https://trax-ml.readthedocs.io/en/latest/trax.layers.html#trax.layers.base.Fn) to call this function. Note: Pass the `prepare_attention_input` function as the `f` parameter in `tl.Fn` without any arguments or parenthesis.\n",
    "\n",
    "**Step 5:** We will now feed the (queries, keys, values, and mask) to the [tl.AttentionQKV](https://trax-ml.readthedocs.io/en/latest/trax.layers.html#trax.layers.attention.AttentionQKV) layer. This computes the scaled dot product attention and outputs the attention weights and mask. Take note that although it is a one liner, this layer is actually composed of a deep network made up of several branches. We'll show the implementation taken [here](https://github.com/google/trax/blob/master/trax/layers/attention.py#L61) to see the different layers used. \n",
    "\n",
    "```python\n",
    "def AttentionQKV(d_feature, n_heads=1, dropout=0.0, mode='train'):\n",
    "  \"\"\"Returns a layer that maps (q, k, v, mask) to (activations, mask).\n",
    "\n",
    "  See `Attention` above for further context/details.\n",
    "\n",
    "  Args:\n",
    "    d_feature: Depth/dimensionality of feature embedding.\n",
    "    n_heads: Number of attention heads.\n",
    "    dropout: Probababilistic rate for internal dropout applied to attention\n",
    "        activations (based on query-key pairs) before dotting them with values.\n",
    "    mode: Either 'train' or 'eval'.\n",
    "  \"\"\"\n",
    "  return cb.Serial(\n",
    "      cb.Parallel(\n",
    "          core.Dense(d_feature),\n",
    "          core.Dense(d_feature),\n",
    "          core.Dense(d_feature),\n",
    "      ),\n",
    "      PureAttention(  # pylint: disable=no-value-for-parameter\n",
    "          n_heads=n_heads, dropout=dropout, mode=mode),\n",
    "      core.Dense(d_feature),\n",
    "  )\n",
    "```\n",
    "\n",
    "Having deep layers pose the risk of vanishing gradients during training and we would want to mitigate that. To improve the ability of the network to learn, we can insert a [tl.Residual](https://trax-ml.readthedocs.io/en/latest/trax.layers.html#trax.layers.combinators.Residual) layer to add the output of AttentionQKV with the `queries` input. You can do this in trax by simply nesting the `AttentionQKV` layer inside the `Residual` layer. The library will take care of branching and adding for you.\n",
    "\n",
    "**Step 6:** We will not need the mask for the model we're building so we can safely drop it. At this point in the network, the signal stack currently has `[attention activations, mask, target tokens]` and you can use [tl.Select](https://trax-ml.readthedocs.io/en/latest/trax.layers.html#trax.layers.combinators.Select) to output just `[attention activations, target tokens]`.\n",
    "\n",
    "**Step 7:** We can now feed the attention weighted output to the LSTM decoder. We can stack multiple [tl.LSTM](https://trax-ml.readthedocs.io/en/latest/trax.layers.html#trax.layers.rnn.LSTM) layers to improve the output so remember to append LSTMs equal to the number defined by `n_decoder_layers` parameter to the model.\n",
    "\n",
    "**Step 8:** We want to determine the probabilities of each subword in the vocabulary and you can set this up easily with a [tl.Dense](https://trax-ml.readthedocs.io/en/latest/trax.layers.html#trax.layers.core.Dense) layer by making its size equal to the size of our vocabulary.\n",
    "\n",
    "**Step 9:** Normalize the output to log probabilities by passing the activations in Step 8 to a [tl.LogSoftmax](https://trax-ml.readthedocs.io/en/latest/trax.layers.html#trax.layers.core.LogSoftmax) layer."
   ]
  },
  {
   "cell_type": "code",
   "execution_count": 41,
   "id": "480a31b0",
   "metadata": {
    "tags": []
   },
   "outputs": [],
   "source": [
    "def NMTAttn(input_vocab_size=33300,\n",
    "            target_vocab_size=33300,\n",
    "            d_model=1024,\n",
    "            n_encoder_layers=2,\n",
    "            n_decoder_layers=2,\n",
    "            n_attention_heads=4,\n",
    "            attention_dropout=0.0,\n",
    "            mode='train'):\n",
    "    \"\"\"Returns an LSTM sequence-to-sequence model with attention.\n",
    "\n",
    "    The input to the model is a pair (input tokens, target tokens), e.g.,\n",
    "    an English sentence (tokenized) and its translation into German (tokenized).\n",
    "\n",
    "    Args:\n",
    "    input_vocab_size: int: vocab size of the input\n",
    "    target_vocab_size: int: vocab size of the target\n",
    "    d_model: int:  depth of embedding (n_units in the LSTM cell)\n",
    "    n_encoder_layers: int: number of LSTM layers in the encoder\n",
    "    n_decoder_layers: int: number of LSTM layers in the decoder after attention\n",
    "    n_attention_heads: int: number of attention heads\n",
    "    attention_dropout: float, dropout for the attention layer\n",
    "    mode: str: 'train', 'eval' or 'predict', predict mode is for fast inference\n",
    "\n",
    "    Returns:\n",
    "    An LSTM sequence-to-sequence model with attention.\n",
    "    \"\"\"\n",
    "\n",
    "    # Step 0: call the helper function to create layers for the input encoder\n",
    "    # The encoder is a LSTM with multiple layers specified by n_encoder_layers\n",
    "    # It outputs a set of activations that are used in the attention mechanism\n",
    "    input_encoder = input_encoder_fn(input_vocab_size, d_model, n_encoder_layers)\n",
    "\n",
    "    # Step 0: call the helper function to create layers for the pre-attention decoder\n",
    "    # The decoder is an LSTM with a single layer\n",
    "    # The activations from the decoder pay attention to the activations from the encoder to create the \"attention context\"\n",
    "    pre_attention_decoder = pre_attention_decoder_fn(mode, target_vocab_size, d_model)\n",
    "\n",
    "    # Step 1: create a serial network\n",
    "    model = tl.Serial( \n",
    "        \n",
    "      # Step 2: copy input tokens and target tokens as they will be needed later.\n",
    "      tl.Select([0,1,0,1]),\n",
    "        \n",
    "      # Step 3: run input encoder on the input and pre-attention decoder the target.\n",
    "      tl.Parallel(input_encoder, pre_attention_decoder),\n",
    "        \n",
    "      # Step 4: prepare queries, keys, values and mask for attention.\n",
    "      tl.Fn('PrepareAttentionInput', prepare_attention_input, n_out=4),\n",
    "        \n",
    "      # Step 5: run the AttentionQKV layer\n",
    "      # nest it inside a Residual layer to add to the pre-attention decoder activations(i.e. queries)\n",
    "      tl.Residual(tl.AttentionQKV(d_model, n_heads=n_attention_heads, dropout=attention_dropout, mode=mode)),\n",
    "      \n",
    "      # Step 6: drop attention mask i.e. index = None\n",
    "      # Note that the attention layer returs these - queries, keys, values, mask\n",
    "      # But, from this point onwards, we need only the queries and values to be fed to the post-attention LSTM decoder\n",
    "      tl.Select([0,2]),\n",
    "        \n",
    "      # Step 7: run the rest of the RNN decoder\n",
    "      [tl.LSTM(d_model) for _ in range(n_decoder_layers)],\n",
    "        \n",
    "      # Step 8: prepare output by making it the right size\n",
    "      tl.Dense(target_vocab_size),\n",
    "        \n",
    "      # Step 9: Log-softmax for output\n",
    "      tl.LogSoftmax()\n",
    "    )\n",
    "    \n",
    "    return model"
   ]
  },
  {
   "cell_type": "code",
   "execution_count": 42,
   "id": "cb439b96",
   "metadata": {
    "tags": []
   },
   "outputs": [
    {
     "name": "stdout",
     "output_type": "stream",
     "text": [
      "Serial_in2_out2[\n",
      "  Select[0,1,0,1]_in2_out4\n",
      "  Parallel_in2_out2[\n",
      "    Serial[\n",
      "      Embedding_33300_1024\n",
      "      LSTM_1024\n",
      "      LSTM_1024\n",
      "    ]\n",
      "    Serial[\n",
      "      Serial[\n",
      "        ShiftRight(1)\n",
      "      ]\n",
      "      Embedding_33300_1024\n",
      "      LSTM_1024\n",
      "    ]\n",
      "  ]\n",
      "  PrepareAttentionInput_in3_out4\n",
      "  Serial_in4_out2[\n",
      "    Branch_in4_out3[\n",
      "      None\n",
      "      Serial_in4_out2[\n",
      "        _in4_out4\n",
      "        Serial_in4_out2[\n",
      "          Parallel_in3_out3[\n",
      "            Dense_1024\n",
      "            Dense_1024\n",
      "            Dense_1024\n",
      "          ]\n",
      "          PureAttention_in4_out2\n",
      "          Dense_1024\n",
      "        ]\n",
      "        _in2_out2\n",
      "      ]\n",
      "    ]\n",
      "    Add_in2\n",
      "  ]\n",
      "  Select[0,2]_in3_out2\n",
      "  LSTM_1024\n",
      "  LSTM_1024\n",
      "  Dense_33300\n",
      "  LogSoftmax\n",
      "]\n"
     ]
    }
   ],
   "source": [
    "# print your model\n",
    "model = NMTAttn()\n",
    "print(model)"
   ]
  },
  {
   "cell_type": "markdown",
   "id": "12176939",
   "metadata": {},
   "source": [
    "<a name=\"3\"></a>\n",
    "# Part 3:  Training\n",
    "\n",
    "We will now be training our model in this section. Doing supervised training in Trax is pretty straightforward (short example [here](https://trax-ml.readthedocs.io/en/latest/notebooks/trax_intro.html#Supervised-training)). We will be instantiating three classes for this: `TrainTask`, `EvalTask`, and `Loop`. Let's take a closer look at each of these in the sections below.\n"
   ]
  },
  {
   "cell_type": "markdown",
   "id": "5f715a6c",
   "metadata": {},
   "source": [
    "<a name=\"3.1\"></a>\n",
    "## 3.1  TrainTask\n",
    "\n",
    "The [TrainTask](https://trax-ml.readthedocs.io/en/latest/trax.supervised.html#trax.supervised.training.TrainTask) class allows us to define the labeled data to use for training and the feedback mechanisms to compute the loss and update the weights. "
   ]
  },
  {
   "cell_type": "code",
   "execution_count": 43,
   "id": "acc4d229",
   "metadata": {
    "tags": []
   },
   "outputs": [],
   "source": [
    "def train_task_function(train_batch_stream):\n",
    "    \"\"\"Returns a trax.training.TrainTask object.\n",
    "\n",
    "    Args:\n",
    "    train_batch_stream generator: labeled data generator\n",
    "\n",
    "    Returns:\n",
    "    A trax.training.TrainTask object.\n",
    "    \"\"\"\n",
    "    return training.TrainTask(\n",
    "        # use the train batch stream as labeled data\n",
    "        labeled_data= train_batch_stream,\n",
    "\n",
    "        # use the cross entropy loss\n",
    "        loss_layer= tl.CrossEntropyLoss(),\n",
    "\n",
    "        # use the Adam optimizer with learning rate of 0.01\n",
    "        optimizer= trax.optimizers.Adam(0.01),\n",
    "\n",
    "        # use the `trax.lr.warmup_and_rsqrt_decay` as the learning rate schedule\n",
    "        # have 1000 warmup steps with a max value of 0.01\n",
    "        lr_schedule= trax.lr.warmup_and_rsqrt_decay(1000,0.01),\n",
    "\n",
    "        # have a checkpoint every 10 steps\n",
    "        n_steps_per_checkpoint= 10\n",
    "    )"
   ]
  },
  {
   "cell_type": "code",
   "execution_count": 45,
   "id": "e8084bf2",
   "metadata": {
    "tags": []
   },
   "outputs": [],
   "source": [
    "train_task = train_task_function(train_batch_stream)"
   ]
  },
  {
   "cell_type": "markdown",
   "id": "82af5655",
   "metadata": {},
   "source": [
    "<a name=\"3.2\"></a>\n",
    "## 3.2  EvalTask\n",
    "\n",
    "The [EvalTask](https://trax-ml.readthedocs.io/en/latest/trax.supervised.html#trax.supervised.training.EvalTask) on the other hand allows us to see how the model is doing while training. For our application, we want it to report the cross entropy loss and accuracy."
   ]
  },
  {
   "cell_type": "code",
   "execution_count": 46,
   "id": "aded69c5",
   "metadata": {
    "tags": []
   },
   "outputs": [],
   "source": [
    "eval_task = training.EvalTask(\n",
    "    \n",
    "    ## use the eval batch stream as labeled data\n",
    "    labeled_data=eval_batch_stream,\n",
    "    \n",
    "    ## use the cross entropy loss and accuracy as metrics\n",
    "    metrics=[tl.CrossEntropyLoss(), tl.Accuracy()],\n",
    ")"
   ]
  },
  {
   "cell_type": "markdown",
   "id": "a726c6df",
   "metadata": {},
   "source": [
    "<a name=\"3.3\"></a>\n",
    "## 3.3  Loop\n",
    "\n",
    "The [Loop](https://trax-ml.readthedocs.io/en/latest/trax.supervised.html#trax.supervised.training.Loop) class defines the model we will train as well as the train and eval tasks to execute. Its `run()` method allows us to execute the training for a specified number of steps."
   ]
  },
  {
   "cell_type": "code",
   "execution_count": null,
   "id": "8cccd8b7",
   "metadata": {
    "lines_to_next_cell": 2,
    "tags": []
   },
   "outputs": [
    {
     "ename": "TypeError",
     "evalue": "unsupported operand type(s) for ==: 'DeviceArray' and 'tuple'",
     "output_type": "error",
     "traceback": [
      "\u001b[0;31m---------------------------------------------------------------------------\u001b[0m",
      "\u001b[0;31mTypeError\u001b[0m                                 Traceback (most recent call last)",
      "\u001b[0;32m<ipython-input-47-ad996361e695>\u001b[0m in \u001b[0;36m<module>\u001b[0;34m\u001b[0m\n\u001b[1;32m      9\u001b[0m                               \u001b[0mtrain_task\u001b[0m\u001b[0;34m,\u001b[0m\u001b[0;34m\u001b[0m\u001b[0;34m\u001b[0m\u001b[0m\n\u001b[1;32m     10\u001b[0m                               \u001b[0meval_tasks\u001b[0m\u001b[0;34m=\u001b[0m\u001b[0;34m[\u001b[0m\u001b[0meval_task\u001b[0m\u001b[0;34m]\u001b[0m\u001b[0;34m,\u001b[0m\u001b[0;34m\u001b[0m\u001b[0;34m\u001b[0m\u001b[0m\n\u001b[0;32m---> 11\u001b[0;31m                               output_dir=output_dir)\n\u001b[0m",
      "\u001b[0;32m/opt/conda/lib/python3.7/site-packages/trax/supervised/training.py\u001b[0m in \u001b[0;36m__init__\u001b[0;34m(self, model, tasks, eval_model, eval_tasks, output_dir, checkpoint_at, checkpoint_low_metric, checkpoint_high_metric, permanent_checkpoint_at, eval_at, which_task, n_devices, random_seed, loss_chunk_size, use_memory_efficient_trainer, adasum, callbacks)\u001b[0m\n\u001b[1;32m    292\u001b[0m \u001b[0;34m\u001b[0m\u001b[0m\n\u001b[1;32m    293\u001b[0m     \u001b[0;31m# Load checkpoint if it exists.\u001b[0m\u001b[0;34m\u001b[0m\u001b[0;34m\u001b[0m\u001b[0;34m\u001b[0m\u001b[0m\n\u001b[0;32m--> 294\u001b[0;31m     \u001b[0mself\u001b[0m\u001b[0;34m.\u001b[0m\u001b[0mload_checkpoint\u001b[0m\u001b[0;34m(\u001b[0m\u001b[0;34m)\u001b[0m\u001b[0;34m\u001b[0m\u001b[0;34m\u001b[0m\u001b[0m\n\u001b[0m\u001b[1;32m    295\u001b[0m \u001b[0;34m\u001b[0m\u001b[0m\n\u001b[1;32m    296\u001b[0m     \u001b[0;31m# Prepare eval components.\u001b[0m\u001b[0;34m\u001b[0m\u001b[0;34m\u001b[0m\u001b[0;34m\u001b[0m\u001b[0m\n",
      "\u001b[0;32m/opt/conda/lib/python3.7/site-packages/trax/supervised/training.py\u001b[0m in \u001b[0;36mload_checkpoint\u001b[0;34m(self, directory, filename)\u001b[0m\n\u001b[1;32m    944\u001b[0m       matched_slots, _ = fastmath.tree_unflatten(\n\u001b[1;32m    945\u001b[0m           \u001b[0mself\u001b[0m\u001b[0;34m.\u001b[0m\u001b[0m_from_bits\u001b[0m\u001b[0;34m(\u001b[0m\u001b[0mmatched_flat_slots\u001b[0m\u001b[0;34m)\u001b[0m\u001b[0;34m,\u001b[0m\u001b[0;34m\u001b[0m\u001b[0;34m\u001b[0m\u001b[0m\n\u001b[0;32m--> 946\u001b[0;31m           trainer.slots, copy_from_tree=[None, ()])\n\u001b[0m\u001b[1;32m    947\u001b[0m       \u001b[0mtrainer\u001b[0m\u001b[0;34m.\u001b[0m\u001b[0mslots\u001b[0m \u001b[0;34m=\u001b[0m \u001b[0mmatched_slots\u001b[0m\u001b[0;34m\u001b[0m\u001b[0;34m\u001b[0m\u001b[0m\n\u001b[1;32m    948\u001b[0m     \u001b[0mself\u001b[0m\u001b[0;34m.\u001b[0m\u001b[0m_step\u001b[0m \u001b[0;34m=\u001b[0m \u001b[0md\u001b[0m\u001b[0;34m[\u001b[0m\u001b[0;34m'step'\u001b[0m\u001b[0;34m]\u001b[0m\u001b[0;34m\u001b[0m\u001b[0;34m\u001b[0m\u001b[0m\n",
      "\u001b[0;32m/opt/conda/lib/python3.7/site-packages/trax/fastmath/numpy.py\u001b[0m in \u001b[0;36mtree_unflatten\u001b[0;34m(flat, tree, copy_from_tree)\u001b[0m\n\u001b[1;32m    242\u001b[0m     \u001b[0mnew_tree\u001b[0m\u001b[0;34m,\u001b[0m \u001b[0mrest\u001b[0m \u001b[0;34m=\u001b[0m \u001b[0;34m[\u001b[0m\u001b[0;34m]\u001b[0m\u001b[0;34m,\u001b[0m \u001b[0mflat\u001b[0m\u001b[0;34m\u001b[0m\u001b[0;34m\u001b[0m\u001b[0m\n\u001b[1;32m    243\u001b[0m     \u001b[0;32mfor\u001b[0m \u001b[0mt\u001b[0m \u001b[0;32min\u001b[0m \u001b[0mtree\u001b[0m\u001b[0;34m:\u001b[0m\u001b[0;34m\u001b[0m\u001b[0;34m\u001b[0m\u001b[0m\n\u001b[0;32m--> 244\u001b[0;31m       \u001b[0mnew_t\u001b[0m\u001b[0;34m,\u001b[0m \u001b[0mrest\u001b[0m \u001b[0;34m=\u001b[0m \u001b[0mtree_unflatten\u001b[0m\u001b[0;34m(\u001b[0m\u001b[0mrest\u001b[0m\u001b[0;34m,\u001b[0m \u001b[0mt\u001b[0m\u001b[0;34m,\u001b[0m \u001b[0mcopy_from_tree\u001b[0m\u001b[0;34m=\u001b[0m\u001b[0mcopy_from_tree\u001b[0m\u001b[0;34m)\u001b[0m\u001b[0;34m\u001b[0m\u001b[0;34m\u001b[0m\u001b[0m\n\u001b[0m\u001b[1;32m    245\u001b[0m       \u001b[0mnew_tree\u001b[0m\u001b[0;34m.\u001b[0m\u001b[0mappend\u001b[0m\u001b[0;34m(\u001b[0m\u001b[0mnew_t\u001b[0m\u001b[0;34m)\u001b[0m\u001b[0;34m\u001b[0m\u001b[0;34m\u001b[0m\u001b[0m\n\u001b[1;32m    246\u001b[0m     \u001b[0mnew_tree\u001b[0m \u001b[0;34m=\u001b[0m \u001b[0mtuple\u001b[0m\u001b[0;34m(\u001b[0m\u001b[0mnew_tree\u001b[0m\u001b[0;34m)\u001b[0m \u001b[0;32mif\u001b[0m \u001b[0misinstance\u001b[0m\u001b[0;34m(\u001b[0m\u001b[0mtree\u001b[0m\u001b[0;34m,\u001b[0m \u001b[0mtuple\u001b[0m\u001b[0;34m)\u001b[0m \u001b[0;32melse\u001b[0m \u001b[0mnew_tree\u001b[0m\u001b[0;34m\u001b[0m\u001b[0;34m\u001b[0m\u001b[0m\n",
      "\u001b[0;32m/opt/conda/lib/python3.7/site-packages/trax/fastmath/numpy.py\u001b[0m in \u001b[0;36mtree_unflatten\u001b[0;34m(flat, tree, copy_from_tree)\u001b[0m\n\u001b[1;32m    242\u001b[0m     \u001b[0mnew_tree\u001b[0m\u001b[0;34m,\u001b[0m \u001b[0mrest\u001b[0m \u001b[0;34m=\u001b[0m \u001b[0;34m[\u001b[0m\u001b[0;34m]\u001b[0m\u001b[0;34m,\u001b[0m \u001b[0mflat\u001b[0m\u001b[0;34m\u001b[0m\u001b[0;34m\u001b[0m\u001b[0m\n\u001b[1;32m    243\u001b[0m     \u001b[0;32mfor\u001b[0m \u001b[0mt\u001b[0m \u001b[0;32min\u001b[0m \u001b[0mtree\u001b[0m\u001b[0;34m:\u001b[0m\u001b[0;34m\u001b[0m\u001b[0;34m\u001b[0m\u001b[0m\n\u001b[0;32m--> 244\u001b[0;31m       \u001b[0mnew_t\u001b[0m\u001b[0;34m,\u001b[0m \u001b[0mrest\u001b[0m \u001b[0;34m=\u001b[0m \u001b[0mtree_unflatten\u001b[0m\u001b[0;34m(\u001b[0m\u001b[0mrest\u001b[0m\u001b[0;34m,\u001b[0m \u001b[0mt\u001b[0m\u001b[0;34m,\u001b[0m \u001b[0mcopy_from_tree\u001b[0m\u001b[0;34m=\u001b[0m\u001b[0mcopy_from_tree\u001b[0m\u001b[0;34m)\u001b[0m\u001b[0;34m\u001b[0m\u001b[0;34m\u001b[0m\u001b[0m\n\u001b[0m\u001b[1;32m    245\u001b[0m       \u001b[0mnew_tree\u001b[0m\u001b[0;34m.\u001b[0m\u001b[0mappend\u001b[0m\u001b[0;34m(\u001b[0m\u001b[0mnew_t\u001b[0m\u001b[0;34m)\u001b[0m\u001b[0;34m\u001b[0m\u001b[0;34m\u001b[0m\u001b[0m\n\u001b[1;32m    246\u001b[0m     \u001b[0mnew_tree\u001b[0m \u001b[0;34m=\u001b[0m \u001b[0mtuple\u001b[0m\u001b[0;34m(\u001b[0m\u001b[0mnew_tree\u001b[0m\u001b[0;34m)\u001b[0m \u001b[0;32mif\u001b[0m \u001b[0misinstance\u001b[0m\u001b[0;34m(\u001b[0m\u001b[0mtree\u001b[0m\u001b[0;34m,\u001b[0m \u001b[0mtuple\u001b[0m\u001b[0;34m)\u001b[0m \u001b[0;32melse\u001b[0m \u001b[0mnew_tree\u001b[0m\u001b[0;34m\u001b[0m\u001b[0;34m\u001b[0m\u001b[0m\n",
      "\u001b[0;32m/opt/conda/lib/python3.7/site-packages/trax/fastmath/numpy.py\u001b[0m in \u001b[0;36mtree_unflatten\u001b[0;34m(flat, tree, copy_from_tree)\u001b[0m\n\u001b[1;32m    237\u001b[0m     \u001b[0mmore\u001b[0m \u001b[0mwere\u001b[0m \u001b[0mprovided\u001b[0m \u001b[0mthan\u001b[0m \u001b[0mthe\u001b[0m \u001b[0mnumber\u001b[0m \u001b[0mof\u001b[0m \u001b[0mleaves\u001b[0m \u001b[0mof\u001b[0m \u001b[0mtree\u001b[0m \u001b[0;34m(\u001b[0m\u001b[0museful\u001b[0m \u001b[0;32mfor\u001b[0m \u001b[0mrecursion\u001b[0m\u001b[0;34m)\u001b[0m\u001b[0;34m.\u001b[0m\u001b[0;34m\u001b[0m\u001b[0;34m\u001b[0m\u001b[0m\n\u001b[1;32m    238\u001b[0m   \"\"\"\n\u001b[0;32m--> 239\u001b[0;31m   \u001b[0;32mif\u001b[0m \u001b[0mcopy_from_tree\u001b[0m \u001b[0;32mis\u001b[0m \u001b[0;32mnot\u001b[0m \u001b[0;32mNone\u001b[0m \u001b[0;32mand\u001b[0m \u001b[0mtree\u001b[0m \u001b[0;32min\u001b[0m \u001b[0mcopy_from_tree\u001b[0m\u001b[0;34m:\u001b[0m\u001b[0;34m\u001b[0m\u001b[0;34m\u001b[0m\u001b[0m\n\u001b[0m\u001b[1;32m    240\u001b[0m     \u001b[0;32mreturn\u001b[0m \u001b[0mtree\u001b[0m\u001b[0;34m,\u001b[0m \u001b[0mflat\u001b[0m\u001b[0;34m\u001b[0m\u001b[0;34m\u001b[0m\u001b[0m\n\u001b[1;32m    241\u001b[0m   \u001b[0;32mif\u001b[0m \u001b[0misinstance\u001b[0m\u001b[0;34m(\u001b[0m\u001b[0mtree\u001b[0m\u001b[0;34m,\u001b[0m \u001b[0;34m(\u001b[0m\u001b[0mlist\u001b[0m\u001b[0;34m,\u001b[0m \u001b[0mtuple\u001b[0m\u001b[0;34m)\u001b[0m\u001b[0;34m)\u001b[0m\u001b[0;34m:\u001b[0m\u001b[0;34m\u001b[0m\u001b[0;34m\u001b[0m\u001b[0m\n",
      "\u001b[0;32m/opt/conda/lib/python3.7/site-packages/jax/_src/numpy/lax_numpy.py\u001b[0m in \u001b[0;36mdeferring_binary_op\u001b[0;34m(self, other)\u001b[0m\n\u001b[1;32m   4936\u001b[0m       \u001b[0;32mreturn\u001b[0m \u001b[0mbinary_op\u001b[0m\u001b[0;34m(\u001b[0m\u001b[0;34m*\u001b[0m\u001b[0margs\u001b[0m\u001b[0;34m)\u001b[0m\u001b[0;34m\u001b[0m\u001b[0;34m\u001b[0m\u001b[0m\n\u001b[1;32m   4937\u001b[0m     \u001b[0;32mif\u001b[0m \u001b[0misinstance\u001b[0m\u001b[0;34m(\u001b[0m\u001b[0mother\u001b[0m\u001b[0;34m,\u001b[0m \u001b[0m_rejected_binop_types\u001b[0m\u001b[0;34m)\u001b[0m\u001b[0;34m:\u001b[0m\u001b[0;34m\u001b[0m\u001b[0;34m\u001b[0m\u001b[0m\n\u001b[0;32m-> 4938\u001b[0;31m       raise TypeError(f\"unsupported operand type(s) for {opchar}: \"\n\u001b[0m\u001b[1;32m   4939\u001b[0m                       f\"{type(args[0]).__name__!r} and {type(args[1]).__name__!r}\")\n\u001b[1;32m   4940\u001b[0m     \u001b[0;32mreturn\u001b[0m \u001b[0mNotImplemented\u001b[0m\u001b[0;34m\u001b[0m\u001b[0;34m\u001b[0m\u001b[0m\n",
      "\u001b[0;31mTypeError\u001b[0m: unsupported operand type(s) for ==: 'DeviceArray' and 'tuple'"
     ]
    }
   ],
   "source": [
    "# define the output directory\n",
    "output_dir = 'output_dir/'\n",
    "\n",
    "# remove old model if it exists. restarts training.\n",
    "!rm -f ~/output_dir/model.pkl.gz  \n",
    "\n",
    "# define the training loop\n",
    "training_loop = training.Loop(NMTAttn(mode='train'),\n",
    "                              train_task,\n",
    "                              eval_tasks=[eval_task],\n",
    "                              output_dir=output_dir)"
   ]
  },
  {
   "cell_type": "code",
   "execution_count": 99,
   "id": "48d29ff5",
   "metadata": {
    "tags": []
   },
   "outputs": [
    {
     "ename": "NameError",
     "evalue": "name 'training_loop' is not defined",
     "output_type": "error",
     "traceback": [
      "\u001b[0;31m---------------------------------------------------------------------------\u001b[0m",
      "\u001b[0;31mNameError\u001b[0m                                 Traceback (most recent call last)",
      "\u001b[0;32m<ipython-input-99-b2abb625648e>\u001b[0m in \u001b[0;36m<module>\u001b[0;34m\u001b[0m\n\u001b[1;32m      1\u001b[0m \u001b[0;31m# NOTE: Execute the training loop. This will take around 11 minutes to complete.\u001b[0m\u001b[0;34m\u001b[0m\u001b[0;34m\u001b[0m\u001b[0;34m\u001b[0m\u001b[0m\n\u001b[0;32m----> 2\u001b[0;31m \u001b[0mtraining_loop\u001b[0m\u001b[0;34m.\u001b[0m\u001b[0mrun\u001b[0m\u001b[0;34m(\u001b[0m\u001b[0;36m100\u001b[0m\u001b[0;34m)\u001b[0m\u001b[0;34m\u001b[0m\u001b[0;34m\u001b[0m\u001b[0m\n\u001b[0m",
      "\u001b[0;31mNameError\u001b[0m: name 'training_loop' is not defined"
     ]
    }
   ],
   "source": [
    "# NOTE: Execute the training loop. This will take around 11 minutes to complete.\n",
    "training_loop.run(100)"
   ]
  },
  {
   "cell_type": "markdown",
   "id": "96a602a8",
   "metadata": {},
   "source": [
    "<a name=\"4\"></a>\n",
    "# Part 4:  Testing\n",
    "\n",
    "We will now be using the model you just trained to translate English sentences to German. We will implement this with two functions: The first allows you to identify the next symbol (i.e. output token). The second one takes care of combining the entire translated string.\n",
    "\n",
    "We will start by first loading in a pre-trained copy of the model you just coded. Please run the cell below to do just that."
   ]
  },
  {
   "cell_type": "code",
   "execution_count": 48,
   "id": "09210ce1",
   "metadata": {
    "tags": []
   },
   "outputs": [],
   "source": [
    "# instantiate the model we built in eval mode\n",
    "model = NMTAttn(mode='eval')\n",
    "\n",
    "# initialize weights from a pre-trained model\n",
    "model.init_from_file(\"model.pkl.gz\", weights_only=True)\n",
    "model = tl.Accelerate(model)"
   ]
  },
  {
   "cell_type": "markdown",
   "id": "7c0a53d6",
   "metadata": {},
   "source": [
    "<a name=\"4.1\"></a>\n",
    "## 4.1  Decoding\n",
    "\n",
    "As discussed in the lectures, there are several ways to get the next token when translating a sentence. For instance, we can just get the most probable token at each step (i.e. greedy decoding) or get a sample from a distribution. We can generalize the implementation of these two approaches by using the `tl.logsoftmax_sample()` method. Let's briefly look at its implementation:\n",
    "\n",
    "```python\n",
    "def logsoftmax_sample(log_probs, temperature=1.0):  # pylint: disable=invalid-name\n",
    "  \"\"\"Returns a sample from a log-softmax output, with temperature.\n",
    "\n",
    "  Args:\n",
    "    log_probs: Logarithms of probabilities (often coming from LogSofmax)\n",
    "    temperature: For scaling before sampling (1.0 = default, 0.0 = pick argmax)\n",
    "  \"\"\"\n",
    "  # Numpy.random.unform --> samples are uniformly distributed over the half-open interval [low, high) (includes low, but excludes high). \n",
    "  # We are using these random samples to select a sample from a softmax with temperature.\n",
    "  u = np.random.uniform(low=1e-6, high=1.0 - 1e-6, size=log_probs.shape)\n",
    "  g = -np.log(-np.log(u))\n",
    "  return np.argmax(log_probs + g * temperature, axis=-1)\n",
    "```\n",
    "\n",
    "The key things to take away here are: 1. it gets random samples with the same shape as your input (i.e. `log_probs`), and 2. the amount of \"noise\" added to the input by these random samples is scaled by a `temperature` setting. You'll notice that setting it to `0` will just make the return statement equal to getting the argmax of `log_probs`. This will come in handy later. \n"
   ]
  },
  {
   "cell_type": "code",
   "execution_count": 49,
   "id": "a012dfaf",
   "metadata": {
    "tags": []
   },
   "outputs": [],
   "source": [
    "def next_symbol(NMTAttn, input_tokens, cur_output_tokens, temperature):\n",
    "    \"\"\"Returns the index of the next token.\n",
    "\n",
    "    Args:\n",
    "        NMTAttn (tl.Serial): An LSTM sequence-to-sequence model with attention.\n",
    "        input_tokens (np.ndarray 1 x n_tokens): tokenized representation of the input sentence\n",
    "        cur_output_tokens (list): tokenized representation of previously translated words\n",
    "        temperature (float): parameter for sampling ranging from 0.0 to 1.0.\n",
    "            0.0: same as argmax, always pick the most probable token\n",
    "            1.0: sampling from the distribution (can sometimes say random things)\n",
    "\n",
    "    Returns:\n",
    "        int: index of the next token in the translated sentence\n",
    "        float: log probability of the next symbol\n",
    "    \"\"\"\n",
    "\n",
    "    # set the length of the current output tokens\n",
    "    token_length = len(cur_output_tokens)\n",
    "    \n",
    "    # calculate next power of 2 for padding length \n",
    "    padded_length = 2 ** int(np.ceil(np.log2(token_length + 1)))\n",
    "\n",
    "    # pad cur_output_tokens up to the padded_length\n",
    "    padded = cur_output_tokens + [0] * (padded_length - token_length)\n",
    "    \n",
    "    # The NMT model expects the output to have an axis for the batch size in front \n",
    "    # So, convert `padded` list to a numpy array with shape (1, padded_length)\n",
    "    padded_with_batch = np.array(padded)[None, :]\n",
    "\n",
    "    # get the model prediction\n",
    "    output, _ = NMTAttn((input_tokens,padded_with_batch))\n",
    "    \n",
    "    # get log probabilities from the last token output\n",
    "    log_probs = output[0, len(padded), :]\n",
    "\n",
    "    # get the next symbol by getting a logsoftmax sample\n",
    "    symbol = int(tl.logsoftmax_sample(log_probs, temperature))\n",
    "    \n",
    "    return symbol, float(log_probs[symbol])"
   ]
  },
  {
   "cell_type": "markdown",
   "id": "4c02ceba",
   "metadata": {},
   "source": [
    "Now you will implement the `sampling_decode()` function. This will call the `next_symbol()` function above several times until the next output is the end-of-sentence token (i.e. `EOS`). It takes in an input string and returns the translated version of that string."
   ]
  },
  {
   "cell_type": "code",
   "execution_count": 51,
   "id": "f449494a",
   "metadata": {
    "collapsed": true,
    "jupyter": {
     "outputs_hidden": true
    },
    "tags": []
   },
   "outputs": [],
   "source": [
    "def sampling_decode(input_sentence, NMTAttn = None, temperature=0.0, vocab_file=None, vocab_dir=None, next_symbol=next_symbol, tokenize=tokenize, detokenize=detokenize):\n",
    "    \"\"\"Returns the translated sentence.\n",
    "\n",
    "    Args:\n",
    "        input_sentence (str): sentence to translate.\n",
    "        NMTAttn (tl.Serial): An LSTM sequence-to-sequence model with attention.\n",
    "        temperature (float): parameter for sampling ranging from 0.0 to 1.0.\n",
    "            0.0: same as argmax, always pick the most probable token\n",
    "            1.0: sampling from the distribution (can sometimes say random things)\n",
    "        vocab_file (str): filename of the vocabulary\n",
    "        vocab_dir (str): path to the vocabulary file\n",
    "\n",
    "    Returns:\n",
    "        tuple: (list, str, float)\n",
    "            list of int: tokenized version of the translated sentence\n",
    "            float: log probability of the translated sentence\n",
    "            str: the translated sentence\n",
    "    \"\"\"\n",
    "    \n",
    "    # encode the input sentence\n",
    "    input_tokens = tokenize(input_sentence, vocab_file=vocab_file, vocab_dir=vocab_dir)\n",
    "    \n",
    "    # initialize an empty the list of output tokens\n",
    "    cur_output_tokens = []\n",
    "    \n",
    "    # initialize an integer that represents the current output index\n",
    "    cur_output = 0\n",
    "    \n",
    "    # Set the encoding of the \"end of sentence\" as 1\n",
    "    EOS = 1\n",
    "    \n",
    "    # check that the current output is not the end of sentence token\n",
    "    while cur_output != EOS:\n",
    "        \n",
    "        # update the current output token by getting the index of the next word (hint: use next_symbol)\n",
    "        cur_output, log_prob = next_symbol(NMTAttn, input_tokens, cur_output_tokens, temperature)\n",
    "        \n",
    "        # append the current output token to the list of output tokens\n",
    "        cur_output_tokens.append(cur_output)        \n",
    "    \n",
    "    # detokenize the output tokens\n",
    "    sentence = detokenize(cur_output_tokens, vocab_file=vocab_file, vocab_dir=vocab_dir)\n",
    "    \n",
    "    return cur_output_tokens, log_prob, sentence\n"
   ]
  },
  {
   "cell_type": "code",
   "execution_count": 53,
   "id": "f9b45d07",
   "metadata": {
    "tags": []
   },
   "outputs": [
    {
     "data": {
      "text/plain": [
       "([161, 285, 41, 25116, 21456, 1],\n",
       " -1.214151382446289,\n",
       " 'Ich möchte eine TasKaffee')"
      ]
     },
     "execution_count": 53,
     "metadata": {},
     "output_type": "execute_result"
    }
   ],
   "source": [
    "#\n",
    "# Test the function above. \n",
    "# Try varying the temperature setting with values from 0 to 1.\n",
    "# Run it several times with each setting and see how often the output changes. \n",
    "#\n",
    "sampling_decode(\"I want a cup of coffee\", NMTAttn=model, temperature=0.0, vocab_file=VOCAB_FILE, vocab_dir=VOCAB_DIR)"
   ]
  },
  {
   "cell_type": "markdown",
   "id": "d7595ee1",
   "metadata": {},
   "source": [
    "We have set a default value of `0` to the temperature setting in our implementation of `sampling_decode()` above. As you may have noticed in the `logsoftmax_sample()` method, this setting will ultimately result in greedy decoding. As mentioned in the lectures, this algorithm generates the translation by getting the most probable word at each step. It gets the argmax of the output array of your model and then returns that index. See the testing function and sample inputs below. You'll notice that the output will remain the same each time you run it."
   ]
  },
  {
   "cell_type": "code",
   "execution_count": 39,
   "id": "7e5a071d",
   "metadata": {
    "collapsed": true,
    "jupyter": {
     "outputs_hidden": true
    }
   },
   "outputs": [],
   "source": [
    "def greedy_decode_test(sentence, NMTAttn=None, vocab_file=None, vocab_dir=None, sampling_decode=sampling_decode, next_symbol=next_symbol, tokenize=tokenize, detokenize=detokenize):\n",
    "    \"\"\"Prints the input and output of our NMTAttn model using greedy decode\n",
    "\n",
    "    Args:\n",
    "        sentence (str): a custom string.\n",
    "        NMTAttn (tl.Serial): An LSTM sequence-to-sequence model with attention.\n",
    "        vocab_file (str): filename of the vocabulary\n",
    "        vocab_dir (str): path to the vocabulary file\n",
    "\n",
    "    Returns:\n",
    "        str: the translated sentence\n",
    "    \"\"\"\n",
    "    \n",
    "    _,_, translated_sentence = sampling_decode(sentence, NMTAttn=NMTAttn, vocab_file=vocab_file, vocab_dir=vocab_dir, next_symbol=next_symbol, tokenize=tokenize, detokenize=detokenize)\n",
    "    \n",
    "    print(\"English: \", sentence)\n",
    "    print(\"German: \", translated_sentence)\n",
    "    \n",
    "    return translated_sentence"
   ]
  },
  {
   "cell_type": "code",
   "execution_count": 43,
   "id": "30e3dc43",
   "metadata": {},
   "outputs": [
    {
     "name": "stdout",
     "output_type": "stream",
     "text": [
      "English:  I am hungry\n",
      "German:  Ich bin hungrig\n"
     ]
    }
   ],
   "source": [
    "# put a custom string here\n",
    "your_sentence = 'I am hungry'\n",
    "greedy_decode_test(your_sentence, NMTAttn=model, vocab_file=VOCAB_FILE, vocab_dir=VOCAB_DIR);"
   ]
  },
  {
   "cell_type": "code",
   "execution_count": 51,
   "id": "76e2b078",
   "metadata": {},
   "outputs": [
    {
     "name": "stdout",
     "output_type": "stream",
     "text": [
      "English:  You are almost done with the assignment\n",
      "German:  Sie haben fast mit begonnen Sie die Aufgabe\n"
     ]
    }
   ],
   "source": [
    "greedy_decode_test('You are almost done with the assignment', NMTAttn=model, vocab_file=VOCAB_FILE, vocab_dir=VOCAB_DIR);"
   ]
  },
  {
   "cell_type": "markdown",
   "id": "19d7c6b9",
   "metadata": {},
   "source": [
    "<a name=\"4.2\"></a>\n",
    "## 4.2  Minimum Bayes-Risk Decoding\n",
    "\n",
    "As mentioned in the lectures, getting the most probable token at each step may not necessarily produce the best results. Another approach is to do Minimum Bayes Risk Decoding or MBR. The general steps to implement this are:\n",
    "\n",
    "1. take several random samples\n",
    "2. score each sample against all other samples\n",
    "3. select the one with the highest score\n",
    "\n",
    "You will be building helper functions for these steps in the following sections."
   ]
  },
  {
   "cell_type": "markdown",
   "id": "ba3216d9",
   "metadata": {},
   "source": [
    "<a name='4.2.1'></a>\n",
    "### 4.2.1 Generating samples\n",
    "\n",
    "First, let's build a function to generate several samples. You can use the `sampling_decode()` function you developed earlier to do this easily. We want to record the token list and log probability for each sample as these will be needed in the next step."
   ]
  },
  {
   "cell_type": "code",
   "execution_count": 123,
   "id": "5dce3c61",
   "metadata": {
    "collapsed": true,
    "jupyter": {
     "outputs_hidden": true
    }
   },
   "outputs": [],
   "source": [
    "def generate_samples(sentence, n_samples, NMTAttn=None, temperature=0.6, vocab_file=None, vocab_dir=None, sampling_decode=sampling_decode, next_symbol=next_symbol, tokenize=tokenize, detokenize=detokenize):\n",
    "    \"\"\"Generates samples using sampling_decode()\n",
    "\n",
    "    Args:\n",
    "        sentence (str): sentence to translate.\n",
    "        n_samples (int): number of samples to generate\n",
    "        NMTAttn (tl.Serial): An LSTM sequence-to-sequence model with attention.\n",
    "        temperature (float): parameter for sampling ranging from 0.0 to 1.0.\n",
    "            0.0: same as argmax, always pick the most probable token\n",
    "            1.0: sampling from the distribution (can sometimes say random things)\n",
    "        vocab_file (str): filename of the vocabulary\n",
    "        vocab_dir (str): path to the vocabulary file\n",
    "        \n",
    "    Returns:\n",
    "        tuple: (list, list)\n",
    "            list of lists: token list per sample\n",
    "            list of floats: log probability per sample\n",
    "    \"\"\"\n",
    "    # define lists to contain samples and probabilities\n",
    "    samples, log_probs = [], []\n",
    "\n",
    "    # run a for loop to generate n samples\n",
    "    for _ in range(n_samples):\n",
    "        \n",
    "        # get a sample using the sampling_decode() function\n",
    "        sample, logp, _ = sampling_decode(sentence, NMTAttn, temperature, vocab_file=vocab_file, vocab_dir=vocab_dir, next_symbol=next_symbol)\n",
    "        \n",
    "        # append the token list to the samples list\n",
    "        samples.append(sample)\n",
    "        \n",
    "        # append the log probability to the log_probs list\n",
    "        log_probs.append(logp)\n",
    "                \n",
    "    return samples, log_probs"
   ]
  },
  {
   "cell_type": "code",
   "execution_count": 105,
   "id": "5f2997ec",
   "metadata": {},
   "outputs": [
    {
     "name": "stdout",
     "output_type": "stream",
     "text": [
      "Wie sind heute?Wie??\n",
      "Wie sind heute??Wie?\n",
      "Wie ist heute?Wie??\n",
      "Wie sind heute????\n"
     ]
    },
    {
     "data": {
      "text/plain": [
       "([[595, 75, 352, 102, 595, 102, 102, 1],\n",
       "  [595, 75, 352, 102, 102, 595, 102, 1],\n",
       "  [595, 24, 352, 102, 595, 102, 102, 1],\n",
       "  [595, 75, 352, 102, 102, 102, 102, 1]],\n",
       " [-0.04829978942871094,\n",
       "  -0.005718231201171875,\n",
       "  -0.045711517333984375,\n",
       "  -0.01949310302734375])"
      ]
     },
     "execution_count": 105,
     "metadata": {},
     "output_type": "execute_result"
    }
   ],
   "source": [
    "# generate 4 samples with the default temperature (0.6)\n",
    "generate_samples('how are you today?', 4, model, vocab_file=VOCAB_FILE, vocab_dir=VOCAB_DIR)"
   ]
  },
  {
   "cell_type": "markdown",
   "id": "c1ad474a",
   "metadata": {},
   "source": [
    "### 4.2.2 Comparing overlaps\n",
    "\n",
    "Let us now build our functions to compare a sample against another. There are several metrics available as shown in the lectures and you can try experimenting with any one of these. For this assignment, we will be calculating scores for unigram overlaps. One of the more simple metrics is the [Jaccard similarity](https://en.wikipedia.org/wiki/Jaccard_index) which gets the intersection over union of two sets. We've already implemented it below for your perusal."
   ]
  },
  {
   "cell_type": "code",
   "execution_count": 56,
   "id": "9eabf7f5",
   "metadata": {
    "collapsed": true,
    "jupyter": {
     "outputs_hidden": true
    }
   },
   "outputs": [],
   "source": [
    "def jaccard_similarity(candidate, reference):\n",
    "    \"\"\"Returns the Jaccard similarity between two token lists\n",
    "\n",
    "    Args:\n",
    "        candidate (list of int): tokenized version of the candidate translation\n",
    "        reference (list of int): tokenized version of the reference translation\n",
    "\n",
    "    Returns:\n",
    "        float: overlap between the two token lists\n",
    "    \"\"\"\n",
    "    \n",
    "    # convert the lists to a set to get the unique tokens\n",
    "    can_unigram_set, ref_unigram_set = set(candidate), set(reference)  \n",
    "    \n",
    "    # get the set of tokens common to both candidate and reference\n",
    "    joint_elems = can_unigram_set.intersection(ref_unigram_set)\n",
    "    \n",
    "    # get the set of all tokens found in either candidate or reference\n",
    "    all_elems = can_unigram_set.union(ref_unigram_set)\n",
    "    \n",
    "    # divide the number of joint elements by the number of all elements\n",
    "    overlap = len(joint_elems) / len(all_elems)\n",
    "    \n",
    "    return overlap"
   ]
  },
  {
   "cell_type": "code",
   "execution_count": 57,
   "id": "b94c2e99",
   "metadata": {},
   "outputs": [
    {
     "data": {
      "text/plain": [
       "0.75"
      ]
     },
     "execution_count": 57,
     "metadata": {},
     "output_type": "execute_result"
    }
   ],
   "source": [
    "# let's try using the function. remember the result here and compare with the next function below.\n",
    "jaccard_similarity([1, 2, 3], [1, 2, 3, 4])"
   ]
  },
  {
   "cell_type": "markdown",
   "id": "0cc94d2f",
   "metadata": {},
   "source": [
    "One of the more commonly used metrics in machine translation is the ROUGE score. For unigrams, this is called ROUGE-1 and as shown in class, you can output the scores for both precision and recall when comparing two samples. To get the final score, you will want to compute the F1-score as given by:\n",
    "\n",
    "$$score = 2* \\frac{(precision * recall)}{(precision + recall)}$$\n"
   ]
  },
  {
   "cell_type": "code",
   "execution_count": 81,
   "id": "0d06d20e",
   "metadata": {
    "tags": []
   },
   "outputs": [],
   "source": [
    "# for making a frequency table easily\n",
    "from collections import Counter\n",
    "\n",
    "def rouge1_similarity(system, reference):\n",
    "    \"\"\"Returns the ROUGE-1 score between two token lists\n",
    "\n",
    "    Args:\n",
    "        system (list of int): tokenized version of the system translation\n",
    "        reference (list of int): tokenized version of the reference translation\n",
    "\n",
    "    Returns:\n",
    "        float: overlap between the two token lists\n",
    "    \"\"\"    \n",
    "    \n",
    "    # make a frequency table of the system tokens (hint: use the Counter class)\n",
    "    sys_counter = Counter(system)\n",
    "    \n",
    "    # make a frequency table of the reference tokens (hint: use the Counter class)\n",
    "    ref_counter = Counter(reference)\n",
    "    \n",
    "    # initialize overlap to 0\n",
    "    overlap = 0\n",
    "    \n",
    "    # run a for loop over the sys_counter object (can be treated as a dictionary)\n",
    "    for token in sys_counter:\n",
    "        \n",
    "        # lookup the value of the token in the sys_counter dictionary (hint: use the get() method)\n",
    "        token_count_sys = sys_counter[token]\n",
    "        \n",
    "        # lookup the value of the token in the ref_counter dictionary (hint: use the get() method)\n",
    "        token_count_ref = ref_counter[token]\n",
    "        \n",
    "        # update the overlap by getting the smaller number between the two token counts above\n",
    "        overlap += min(token_count_ref,token_count_sys)\n",
    "    \n",
    "    # get the precision\n",
    "    precision = overlap/len(system)\n",
    "    \n",
    "    # get the recall\n",
    "    recall = overlap/len(reference)\n",
    "    \n",
    "    if precision + recall != 0: # @KEEPTHIS\n",
    "        # compute the f1-score\n",
    "        rouge1_score = (2*precision*recall)/(precision + recall)\n",
    "    else:\n",
    "        rouge1_score = 0 \n",
    "    \n",
    "    return rouge1_score"
   ]
  },
  {
   "cell_type": "code",
   "execution_count": 82,
   "id": "660af3a9",
   "metadata": {},
   "outputs": [
    {
     "data": {
      "text/plain": [
       "0.8571428571428571"
      ]
     },
     "execution_count": 82,
     "metadata": {},
     "output_type": "execute_result"
    }
   ],
   "source": [
    "# notice that this produces a different value from the jaccard similarity earlier\n",
    "rouge1_similarity([1, 2, 3], [1, 2, 3, 4])"
   ]
  },
  {
   "cell_type": "markdown",
   "id": "3257ff07",
   "metadata": {},
   "source": [
    "### 4.2.3 Overall score\n",
    "\n",
    "We will now build a function to generate the overall score for a particular sample. As mentioned earlier, we need to compare each sample with all other samples. For instance, if we generated 30 sentences, we will need to compare sentence 1 to sentences 2 to 30. Then, we compare sentence 2 to sentences 1 and 3 to 30, and so forth. At each step, we get the average score of all comparisons to get the overall score for a particular sample. To illustrate, these will be the steps to generate the scores of a 4-sample list.\n",
    "\n",
    "1. Get similarity score between sample 1 and sample 2\n",
    "2. Get similarity score between sample 1 and sample 3\n",
    "3. Get similarity score between sample 1 and sample 4\n",
    "4. Get average score of the first 3 steps. This will be the overall score of sample 1.\n",
    "5. Iterate and repeat until samples 1 to 4 have overall scores.\n",
    "\n",
    "We will be storing the results in a dictionary for easy lookups.\n",
    "\n",
    "<a name=\"ex09\"></a>\n",
    "### Exercise 09\n",
    "\n",
    "**Instructions**: Implement the `average_overlap()` function."
   ]
  },
  {
   "cell_type": "code",
   "execution_count": 84,
   "id": "bc9c5de1",
   "metadata": {
    "collapsed": true,
    "jupyter": {
     "outputs_hidden": true
    }
   },
   "outputs": [],
   "source": [
    "# UNQ_C9\n",
    "# GRADED FUNCTION\n",
    "def average_overlap(similarity_fn, samples, *ignore_params):\n",
    "    \"\"\"Returns the arithmetic mean of each candidate sentence in the samples\n",
    "\n",
    "    Args:\n",
    "        similarity_fn (function): similarity function used to compute the overlap\n",
    "        samples (list of lists): tokenized version of the translated sentences\n",
    "        *ignore_params: additional parameters will be ignored\n",
    "\n",
    "    Returns:\n",
    "        dict: scores of each sample\n",
    "            key: index of the sample\n",
    "            value: score of the sample\n",
    "    \"\"\"  \n",
    "    \n",
    "    # initialize dictionary\n",
    "    scores = {}\n",
    "    \n",
    "    # run a for loop for each sample\n",
    "    for index_candidate, candidate in enumerate(samples):    \n",
    "        \n",
    "        # initialize overlap\n",
    "        overlap = 0.0\n",
    "        \n",
    "        # run a for loop for each sample\n",
    "        for index_sample, sample in enumerate(samples): # @KEEPTHIS\n",
    "\n",
    "            # skip if the candidate index is the same as the sample index\n",
    "            if index_candidate == index_sample:\n",
    "                continue\n",
    "                \n",
    "            # get the overlap between candidate and sample using the similarity function\n",
    "            sample_overlap = similarity_fn(candidate, sample)\n",
    "            \n",
    "            # add the sample overlap to the total overlap\n",
    "            overlap += sample_overlap\n",
    "            \n",
    "        # get the score for the candidate by computing the average\n",
    "        score = overlap/(len(samples)-1)\n",
    "        \n",
    "        # save the score in the dictionary. use index as the key.\n",
    "        scores[index_candidate] = score\n",
    "    return scores"
   ]
  },
  {
   "cell_type": "code",
   "execution_count": 85,
   "id": "e52399a8",
   "metadata": {},
   "outputs": [
    {
     "data": {
      "text/plain": [
       "{0: 0.45, 1: 0.625, 2: 0.575}"
      ]
     },
     "execution_count": 85,
     "metadata": {},
     "output_type": "execute_result"
    }
   ],
   "source": [
    "average_overlap(jaccard_similarity, [[1, 2, 3], [1, 2, 4], [1, 2, 4, 5]], [0.4, 0.2, 0.5])"
   ]
  },
  {
   "cell_type": "code",
   "execution_count": 86,
   "id": "b4242741",
   "metadata": {},
   "outputs": [
    {
     "name": "stdout",
     "output_type": "stream",
     "text": [
      "\u001b[92m All tests passed\n"
     ]
    }
   ],
   "source": [
    "# UNIT TEST\n",
    "# test average_overlap\n",
    "w1_unittest.test_average_overlap(average_overlap, rouge1_similarity)"
   ]
  },
  {
   "cell_type": "markdown",
   "id": "2b5c2927",
   "metadata": {},
   "source": [
    "In practice, it is also common to see the weighted mean being used to calculate the overall score instead of just the arithmetic mean. We have implemented it below and you can use it in your experiements to see which one will give better results."
   ]
  },
  {
   "cell_type": "code",
   "execution_count": 87,
   "id": "bc55a80b",
   "metadata": {
    "collapsed": true,
    "jupyter": {
     "outputs_hidden": true
    }
   },
   "outputs": [],
   "source": [
    "def weighted_avg_overlap(similarity_fn, samples, log_probs):\n",
    "    \"\"\"Returns the weighted mean of each candidate sentence in the samples\n",
    "\n",
    "    Args:\n",
    "        samples (list of lists): tokenized version of the translated sentences\n",
    "        log_probs (list of float): log probability of the translated sentences\n",
    "\n",
    "    Returns:\n",
    "        dict: scores of each sample\n",
    "            key: index of the sample\n",
    "            value: score of the sample\n",
    "    \"\"\"\n",
    "    \n",
    "    # initialize dictionary\n",
    "    scores = {}\n",
    "    \n",
    "    # run a for loop for each sample\n",
    "    for index_candidate, candidate in enumerate(samples):    \n",
    "        \n",
    "        # initialize overlap and weighted sum\n",
    "        overlap, weight_sum = 0.0, 0.0\n",
    "        \n",
    "        # run a for loop for each sample\n",
    "        for index_sample, (sample, logp) in enumerate(zip(samples, log_probs)):\n",
    "\n",
    "            # skip if the candidate index is the same as the sample index            \n",
    "            if index_candidate == index_sample:\n",
    "                continue\n",
    "                \n",
    "            # convert log probability to linear scale\n",
    "            sample_p = float(np.exp(logp))\n",
    "\n",
    "            # update the weighted sum\n",
    "            weight_sum += sample_p\n",
    "\n",
    "            # get the unigram overlap between candidate and sample\n",
    "            sample_overlap = similarity_fn(candidate, sample)\n",
    "            \n",
    "            # update the overlap\n",
    "            overlap += sample_p * sample_overlap\n",
    "            \n",
    "        # get the score for the candidate\n",
    "        score = overlap / weight_sum\n",
    "        \n",
    "        # save the score in the dictionary. use index as the key.\n",
    "        scores[index_candidate] = score\n",
    "    \n",
    "    return scores"
   ]
  },
  {
   "cell_type": "code",
   "execution_count": 88,
   "id": "d012ea21",
   "metadata": {},
   "outputs": [
    {
     "data": {
      "text/plain": [
       "{0: 0.44255574831883415, 1: 0.631244796869735, 2: 0.5575581009406329}"
      ]
     },
     "execution_count": 88,
     "metadata": {},
     "output_type": "execute_result"
    }
   ],
   "source": [
    "weighted_avg_overlap(jaccard_similarity, [[1, 2, 3], [1, 2, 4], [1, 2, 4, 5]], [0.4, 0.2, 0.5])"
   ]
  },
  {
   "cell_type": "markdown",
   "id": "87ab8dae",
   "metadata": {},
   "source": [
    "### 4.2.4 Putting it all together\n",
    "\n",
    "We will now put everything together and develop the `mbr_decode()` function. Please use the helper functions you just developed to complete this. You will want to generate samples, get the score for each sample, get the highest score among all samples, then detokenize this sample to get the translated sentence.\n",
    "\n",
    "<a name=\"ex10\"></a>\n",
    "### Exercise 10\n",
    "\n",
    "**Instructions**: Implement the `mbr_decode()` function."
   ]
  },
  {
   "cell_type": "code",
   "execution_count": 125,
   "id": "87db6c7e",
   "metadata": {
    "collapsed": true,
    "jupyter": {
     "outputs_hidden": true
    }
   },
   "outputs": [],
   "source": [
    "# UNQ_C10\n",
    "# GRADED FUNCTION\n",
    "def mbr_decode(sentence, n_samples, score_fn, similarity_fn, NMTAttn=None, temperature=0.6, vocab_file=None, vocab_dir=None, generate_samples=generate_samples, sampling_decode=sampling_decode, next_symbol=next_symbol, tokenize=tokenize, detokenize=detokenize):\n",
    "    \"\"\"Returns the translated sentence using Minimum Bayes Risk decoding\n",
    "\n",
    "    Args:\n",
    "        sentence (str): sentence to translate.\n",
    "        n_samples (int): number of samples to generate\n",
    "        score_fn (function): function that generates the score for each sample\n",
    "        similarity_fn (function): function used to compute the overlap between a pair of samples\n",
    "        NMTAttn (tl.Serial): An LSTM sequence-to-sequence model with attention.\n",
    "        temperature (float): parameter for sampling ranging from 0.0 to 1.0.\n",
    "            0.0: same as argmax, always pick the most probable token\n",
    "            1.0: sampling from the distribution (can sometimes say random things)\n",
    "        vocab_file (str): filename of the vocabulary\n",
    "        vocab_dir (str): path to the vocabulary file\n",
    "\n",
    "    Returns:\n",
    "        str: the translated sentence\n",
    "    \"\"\"\n",
    "    \n",
    "    ### START CODE HERE ###\n",
    "    # generate samples\n",
    "    samples, log_probs = generate_samples(sentence, n_samples, NMTAttn, temperature=0.6, vocab_file=vocab_file, vocab_dir=vocab_dir, sampling_decode=sampling_decode, next_symbol=next_symbol, tokenize=tokenize, detokenize=detokenize)\n",
    "\n",
    "    # use the scoring function to get a dictionary of scores\n",
    "    # pass in the relevant parameters as shown in the function definition of \n",
    "    # the mean methods you developed earlier\n",
    "    scores = score_fn(similarity_fn, samples, log_probs)\n",
    "    \n",
    "    # find the key with the highest score\n",
    "    max_score_key = max(scores, key = scores.get)\n",
    "    \n",
    "    # detokenize the token list associated with the max_score_key\n",
    "    translated_sentence = detokenize(samples[max_score_key], vocab_file=vocab_file, vocab_dir=vocab_dir)\n",
    "    \n",
    "    ### END CODE HERE ###\n",
    "    \n",
    "    return (translated_sentence, max_score_key, scores)"
   ]
  },
  {
   "cell_type": "code",
   "execution_count": 128,
   "id": "33bf201c",
   "metadata": {
    "collapsed": true,
    "jupyter": {
     "outputs_hidden": true
    }
   },
   "outputs": [],
   "source": [
    "TEMPERATURE = 1.0\n",
    "\n",
    "# put a custom string here\n",
    "your_sentence = 'She speaks English and German'"
   ]
  },
  {
   "cell_type": "code",
   "execution_count": 129,
   "id": "31fb5821",
   "metadata": {},
   "outputs": [
    {
     "data": {
      "text/plain": [
       "'Sie spricht Englisch und Deutsch'"
      ]
     },
     "execution_count": 129,
     "metadata": {},
     "output_type": "execute_result"
    }
   ],
   "source": [
    "mbr_decode(your_sentence, 4, weighted_avg_overlap, jaccard_similarity, model, TEMPERATURE, vocab_file=VOCAB_FILE, vocab_dir=VOCAB_DIR)[0]"
   ]
  },
  {
   "cell_type": "code",
   "execution_count": 132,
   "id": "f7b86e2f",
   "metadata": {},
   "outputs": [
    {
     "data": {
      "text/plain": [
       "'Herzlichen GlückwunschGlückwGlückw!'"
      ]
     },
     "execution_count": 132,
     "metadata": {},
     "output_type": "execute_result"
    }
   ],
   "source": [
    "mbr_decode('Congratulations!', 4, average_overlap, rouge1_similarity, model, TEMPERATURE, vocab_file=VOCAB_FILE, vocab_dir=VOCAB_DIR)[0]"
   ]
  },
  {
   "cell_type": "code",
   "execution_count": 133,
   "id": "e53703bb",
   "metadata": {},
   "outputs": [
    {
     "data": {
      "text/plain": [
       "'Sie haben die Aberfüllt vorgesehen'"
      ]
     },
     "execution_count": 133,
     "metadata": {},
     "output_type": "execute_result"
    }
   ],
   "source": [
    "mbr_decode('You have completed the assignment', 4, average_overlap, rouge1_similarity, model, TEMPERATURE, vocab_file=VOCAB_FILE, vocab_dir=VOCAB_DIR)[0]"
   ]
  },
  {
   "cell_type": "code",
   "execution_count": 134,
   "id": "85dce274",
   "metadata": {},
   "outputs": [
    {
     "name": "stdout",
     "output_type": "stream",
     "text": [
      "\u001b[92m All tests passed\n"
     ]
    }
   ],
   "source": [
    "# UNIT TEST\n",
    "# test mbr_decode\n",
    "w1_unittest.test_mbr_decode(target=mbr_decode, score_fn=average_overlap, similarity_fn=rouge1_similarity)"
   ]
  },
  {
   "cell_type": "markdown",
   "id": "227fdbfe",
   "metadata": {},
   "source": [
    "#### Congratulations! Next week, you'll dive deeper into attention models and study the Transformer architecture. You will build another network but without the recurrent part. It will show that attention is all you need! It should be fun!"
   ]
  }
 ],
 "metadata": {
  "instance_type": "ml.t3.medium",
  "jupytext": {
   "encoding": "# -*- coding: utf-8 -*-"
  },
  "kernelspec": {
   "display_name": "Python 3 (Data Science)",
   "language": "python",
   "name": "python3__SAGEMAKER_INTERNAL__arn:aws:sagemaker:us-east-1:081325390199:image/datascience-1.0"
  },
  "language_info": {
   "codemirror_mode": {
    "name": "ipython",
    "version": 3
   },
   "file_extension": ".py",
   "mimetype": "text/x-python",
   "name": "python",
   "nbconvert_exporter": "python",
   "pygments_lexer": "ipython3",
   "version": "3.7.10"
  }
 },
 "nbformat": 4,
 "nbformat_minor": 5
}
